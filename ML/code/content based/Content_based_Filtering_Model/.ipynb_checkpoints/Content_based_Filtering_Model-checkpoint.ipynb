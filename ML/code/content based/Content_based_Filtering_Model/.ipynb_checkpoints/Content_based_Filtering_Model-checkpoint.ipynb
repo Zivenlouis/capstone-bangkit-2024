{
  "cells": [
    {
      "cell_type": "markdown",
      "metadata": {
        "id": "3zcaCg9Q-dlP"
      },
      "source": [
        "# Content-based Filtering Model"
      ]
    },
    {
      "cell_type": "code",
      "execution_count": 112,
      "metadata": {
        "id": "lTSivqgt1Rfh"
      },
      "outputs": [],
      "source": [
        "import csv\n",
        "import random\n",
        "import tensorflow as tf"
      ]
    },
    {
      "cell_type": "markdown",
      "metadata": {
        "id": "ibsRfIGuAwug"
      },
      "source": [
        "Create a list of brand choice for one hot encoding."
      ]
    },
    {
      "cell_type": "code",
      "execution_count": 113,
      "metadata": {
        "id": "VXZwCmzc4YfB"
      },
      "outputs": [],
      "source": [
        "user_dict = {}\n",
        "brand_choice_list = ['Oppo', 'Asus', 'Infinix', 'Samsung', 'Vivo', 'Huawei', 'Apple', 'Realme', 'Xiaomi', 'Poco', 'lainnya/tidak ada']"
      ]
    },
    {
      "cell_type": "markdown",
      "metadata": {
        "id": "phxDic6Z-rbj"
      },
      "source": [
        "Access user dataset from csv file."
      ]
    },
    {
      "cell_type": "code",
      "execution_count": 114,
      "metadata": {
        "id": "bkCkzwffEpBb"
      },
      "outputs": [],
      "source": [
        "with open('user_dataset_revised.csv', 'r') as file:\n",
        "  user_dict['user'] = []\n",
        "  user_dict['user_fav'] = []\n",
        "  user_index = []\n",
        "  csvFile = csv.reader(file)\n",
        "  for i,line in enumerate(csvFile):\n",
        "    if '0' in line:\n",
        "      continue\n",
        "    else:\n",
        "      user_index.append(i)\n",
        "      user_dict[f'user'].append([int(line[0]), int(line[1]), int(line[2]), int(line[3]), int(line[4]), int(line[5])])\n",
        "      user_dict[f'user_fav'].append(brand_choice_list.index(line[7]))"
      ]
    },
    {
      "cell_type": "markdown",
      "metadata": {
        "id": "leXTOXiZ-ykH"
      },
      "source": [
        "Convert user features to tensors and one hot encode one of user features, and then concatenate them."
      ]
    },
    {
      "cell_type": "code",
      "execution_count": 115,
      "metadata": {
        "id": "SYybH4qnE__V"
      },
      "outputs": [],
      "source": [
        "user_feature1_6 = tf.cast(tf.convert_to_tensor(user_dict['user']), tf.float32)\n",
        "user_feature7 = tf.one_hot(user_dict['user_fav'], len(brand_choice_list))\n",
        "user = tf.concat([user_feature1_6, user_feature7], 1)"
      ]
    },
    {
      "cell_type": "markdown",
      "metadata": {
        "id": "tTBfDEmPAjk9"
      },
      "source": [
        "User features are performance, camera, battery, software, RAM, storage, and favorite brand."
      ]
    },
    {
      "cell_type": "code",
      "execution_count": 116,
      "metadata": {
        "colab": {
          "base_uri": "https://localhost:8080/"
        },
        "id": "84AknkZKWLed",
        "outputId": "9e429212-7b86-47e1-e329-8b61a4cfd138"
      },
      "outputs": [
        {
          "data": {
            "text/plain": [
              "<tf.Tensor: shape=(17,), dtype=float32, numpy=\n",
              "array([1., 1., 5., 1., 3., 1., 0., 0., 0., 0., 1., 0., 0., 0., 0., 0., 0.],\n",
              "      dtype=float32)>"
            ]
          },
          "execution_count": 116,
          "metadata": {},
          "output_type": "execute_result"
        }
      ],
      "source": [
        "user[0]"
      ]
    },
    {
      "cell_type": "markdown",
      "metadata": {
        "id": "2QCM4HGmA5fJ"
      },
      "source": [
        "Create a brand list and os list for one hot encoding."
      ]
    },
    {
      "cell_type": "code",
      "execution_count": 117,
      "metadata": {
        "id": "Ox68dlOJ41TB"
      },
      "outputs": [],
      "source": [
        "phone_dict = {}\n",
        "brand_list = ['Oppo', 'Asus', 'Infinix', 'Samsung', 'Vivo', 'Huawei', 'Apple', 'Realme', 'Xiaomi', 'Poco']\n",
        "os_list = ['iOS', 'EMUI', 'Android']"
      ]
    },
    {
      "cell_type": "markdown",
      "metadata": {
        "id": "DKj3MQpG_Dka"
      },
      "source": [
        "Access phone dataset from csv file.<br>\n",
        "Preprocess the data,  one hot encode some of the features, normalize some of the features.<br>\n",
        "Then concatenate all the phone data."
      ]
    },
    {
      "cell_type": "code",
      "execution_count": 118,
      "metadata": {
        "id": "RnsoSCDw4396"
      },
      "outputs": [],
      "source": [
        "with open('phone_dataset_cleaned.csv', 'r') as file:\n",
        "  phone_dict = {'phone_brand': [], 'phone_name': [], 'phone_weight': [], 'phone_os': [], 'phone_chipset': [], 'phone_memory': [], 'phone_ram': [], 'phone_camera': [], 'phone_audio_jack': [], 'phone_battery': [], 'phone_charging': [], 'phone_nfc': [], 'phone_price': []}\n",
        "  csvFile = csv.reader(file)\n",
        "  next(csvFile)\n",
        "  for i,line in enumerate(csvFile):\n",
        "    phone_dict['phone_brand'].append(brand_list.index(line[1]))\n",
        "    phone_dict['phone_name'].append(line[2])\n",
        "    phone_dict['phone_weight'].append(float(line[6]))\n",
        "    phone_dict['phone_os'].append(os_list.index('iOS' if line[7].startswith('iOS') else 'EMUI' if line[7].startswith('EMUI') else 'Android'))\n",
        "    phone_dict['phone_chipset'].append(line[8])\n",
        "    phone_dict['phone_memory'].append(float(line[9]))\n",
        "    phone_dict['phone_ram'].append(float(line[10]))\n",
        "    phone_dict['phone_camera'].append([float(line[11]), float(line[12]), float(line[13]), float(line[14])])\n",
        "    phone_dict['phone_audio_jack'].append(1.0 if line[15] == 'TRUE' else 0.0)\n",
        "    phone_dict['phone_battery'].append(float(line[16]))\n",
        "    phone_dict['phone_charging'].append(float(line[17]))\n",
        "    phone_dict['phone_nfc'].append(1.0 if line[19] == 'TRUE' else 0.0)\n",
        "    phone_dict['phone_price'].append(float(line[20]))"
      ]
    },
    {
      "cell_type": "code",
      "execution_count": 119,
      "metadata": {
        "id": "aKMsXm2EZtUa"
      },
      "outputs": [],
      "source": [
        "chipset_list = sorted(set(phone_dict['phone_chipset']))\n",
        "phone_dict['phone_chipset'] = [chipset_list.index(phone) for phone in phone_dict['phone_chipset']]"
      ]
    },
    {
      "cell_type": "code",
      "execution_count": 120,
      "metadata": {
        "id": "cPVRIyYSaiwT"
      },
      "outputs": [],
      "source": [
        "phone_brand = tf.one_hot(phone_dict['phone_brand'], len(brand_list))\n",
        "phone_weight = tf.expand_dims(tf.convert_to_tensor(phone_dict['phone_weight']) / max(phone_dict['phone_weight']), 1)\n",
        "phone_os = tf.one_hot(phone_dict['phone_os'], len(os_list))\n",
        "phone_chipset = tf.one_hot(phone_dict['phone_chipset'], len(chipset_list))\n",
        "phone_memory = tf.expand_dims(tf.convert_to_tensor(phone_dict['phone_memory']), 1)  / max(phone_dict['phone_memory'])\n",
        "phone_ram = tf.expand_dims(tf.convert_to_tensor(phone_dict['phone_ram']), 1) / max(phone_dict['phone_ram'])\n",
        "phone_camera = tf.convert_to_tensor(phone_dict['phone_camera'])\n",
        "phone_audio_jack = tf.expand_dims(tf.convert_to_tensor(phone_dict['phone_audio_jack']), 1)\n",
        "phone_battery = tf.expand_dims(tf.convert_to_tensor(phone_dict['phone_battery']), 1) / max(phone_dict['phone_battery'])\n",
        "phone_charging = tf.expand_dims(tf.convert_to_tensor(phone_dict['phone_charging']), 1)\n",
        "phone_nfc = tf.expand_dims(tf.convert_to_tensor(phone_dict['phone_nfc']), 1)\n",
        "phone_price = tf.expand_dims(tf.convert_to_tensor(phone_dict['phone_price']), 1) / max(phone_dict['phone_price'])"
      ]
    },
    {
      "cell_type": "code",
      "execution_count": 121,
      "metadata": {
        "id": "UWIiW1Gpa6Ga"
      },
      "outputs": [],
      "source": [
        "phone = tf.concat([phone_brand, phone_weight, phone_os, phone_chipset, phone_memory, phone_ram, phone_camera, phone_audio_jack, phone_battery, phone_charging, phone_nfc, phone_price], 1)"
      ]
    },
    {
      "cell_type": "markdown",
      "metadata": {
        "id": "-5XpbFOqBaVR"
      },
      "source": [
        "Phone features are brand, weight, os, chipset, memory, RAM, camera 1, camera 2, camera 3, selfie camera, audio jack, battery, charging, nfc, and price."
      ]
    },
    {
      "cell_type": "code",
      "execution_count": 11,
      "metadata": {
        "colab": {
          "base_uri": "https://localhost:8080/"
        },
        "collapsed": true,
        "id": "ZRLElV0-XBfZ",
        "outputId": "ffb20036-e7b9-477e-c7cc-be6a670cfd0c"
      },
      "outputs": [
        {
          "data": {
            "text/plain": [
              "<tf.Tensor: shape=(75,), dtype=float32, numpy=\n",
              "array([ 1.        ,  0.        ,  0.        ,  0.        ,  0.        ,\n",
              "        0.        ,  0.        ,  0.        ,  0.        ,  0.        ,\n",
              "        0.33643124,  0.        ,  0.        ,  1.        ,  0.        ,\n",
              "        0.        ,  0.        ,  0.        ,  0.        ,  0.        ,\n",
              "        0.        ,  0.        ,  0.        ,  0.        ,  0.        ,\n",
              "        0.        ,  0.        ,  0.        ,  0.        ,  0.        ,\n",
              "        0.        ,  1.        ,  0.        ,  0.        ,  0.        ,\n",
              "        0.        ,  0.        ,  0.        ,  0.        ,  0.        ,\n",
              "        0.        ,  0.        ,  0.        ,  0.        ,  0.        ,\n",
              "        0.        ,  0.        ,  0.        ,  0.        ,  0.        ,\n",
              "        0.        ,  0.        ,  0.        ,  0.        ,  0.        ,\n",
              "        0.        ,  0.        ,  0.        ,  0.        ,  0.        ,\n",
              "        0.        ,  0.        ,  0.        ,  0.        ,  0.5       ,\n",
              "        0.5       , 50.        , 32.        ,  8.        , 32.        ,\n",
              "        1.        ,  0.575     , 80.        ,  1.        ,  0.28972957],\n",
              "      dtype=float32)>"
            ]
          },
          "execution_count": 11,
          "metadata": {},
          "output_type": "execute_result"
        }
      ],
      "source": [
        "phone[0]"
      ]
    },
    {
      "cell_type": "markdown",
      "metadata": {
        "id": "nbb9mEGHBvxJ"
      },
      "source": [
        "Create a rating dictionary and a rating list."
      ]
    },
    {
      "cell_type": "code",
      "execution_count": 12,
      "metadata": {
        "id": "I3KdE-uH3UD_"
      },
      "outputs": [],
      "source": [
        "rating_dict = {}"
      ]
    },
    {
      "cell_type": "code",
      "execution_count": 13,
      "metadata": {
        "id": "ob1FJCnES5wm"
      },
      "outputs": [],
      "source": [
        "rating = [[0.0 for _ in range(1507)] for _ in range(96)]"
      ]
    },
    {
      "cell_type": "code",
      "execution_count": 14,
      "metadata": {
        "colab": {
          "base_uri": "https://localhost:8080/"
        },
        "id": "jkqpXN8NTj1W",
        "outputId": "fd5f709d-5320-4825-fb11-05f28fd267eb"
      },
      "outputs": [
        {
          "data": {
            "text/plain": [
              "0.0"
            ]
          },
          "execution_count": 14,
          "metadata": {},
          "output_type": "execute_result"
        }
      ],
      "source": [
        "rating[0][0]"
      ]
    },
    {
      "cell_type": "markdown",
      "metadata": {
        "id": "OW-5ovGS_iUi"
      },
      "source": [
        "Access rating dataset from csv file and only save the ratings from the users with information."
      ]
    },
    {
      "cell_type": "code",
      "execution_count": 15,
      "metadata": {
        "id": "dyFulwDITHMT"
      },
      "outputs": [],
      "source": [
        "with open('rating_dataset_cleaned.csv', 'r') as file:\n",
        "  csvFile = csv.reader(file)\n",
        "  for i,line in enumerate(csvFile):\n",
        "    for j,r in enumerate(line):\n",
        "      if j in user_index:\n",
        "        rating[i][user_index.index(j)] = float(r)"
      ]
    },
    {
      "cell_type": "code",
      "execution_count": 16,
      "metadata": {
        "colab": {
          "base_uri": "https://localhost:8080/"
        },
        "id": "KmpFxMaiTOvZ",
        "outputId": "9e12b318-db19-4486-f9ed-7691aaae58a5"
      },
      "outputs": [
        {
          "name": "stdout",
          "output_type": "stream",
          "text": [
            "0.0\n",
            "0.0\n",
            "0.0\n"
          ]
        }
      ],
      "source": [
        "print(rating[0][0])\n",
        "print(rating[4][1])\n",
        "print(rating[9][0])"
      ]
    },
    {
      "cell_type": "code",
      "execution_count": 17,
      "metadata": {
        "id": "GZICugZmZ1LZ"
      },
      "outputs": [],
      "source": [
        "phone_data = []\n",
        "user_data = []\n",
        "rating_data = []"
      ]
    },
    {
      "cell_type": "markdown",
      "metadata": {
        "id": "xQfUoDL8_u5g"
      },
      "source": [
        "Save the phone data and user data for training only for the rated phone."
      ]
    },
    {
      "cell_type": "code",
      "execution_count": 18,
      "metadata": {
        "id": "GnqkHGMUZdPH"
      },
      "outputs": [],
      "source": [
        "for i,p in enumerate(phone):\n",
        "  for j,u in enumerate(user):\n",
        "    if rating[i][j] > 0:\n",
        "      phone_data.append(phone[i])\n",
        "      user_data.append(user[j])\n",
        "      rating_data.append(rating[i][j])"
      ]
    },
    {
      "cell_type": "code",
      "execution_count": 19,
      "metadata": {
        "colab": {
          "base_uri": "https://localhost:8080/"
        },
        "id": "9wIOEBr6e7Y0",
        "outputId": "06e7db2e-b8f2-4fea-c0f6-65731cb1ae28"
      },
      "outputs": [
        {
          "data": {
            "text/plain": [
              "5439"
            ]
          },
          "execution_count": 19,
          "metadata": {},
          "output_type": "execute_result"
        }
      ],
      "source": [
        "len(phone_data)"
      ]
    },
    {
      "cell_type": "markdown",
      "metadata": {
        "id": "YdSyeVwv_6Ww"
      },
      "source": [
        "Convert phone data, user data, and rating data to tensors and shuffle them."
      ]
    },
    {
      "cell_type": "code",
      "execution_count": 20,
      "metadata": {
        "id": "3hz-cjs3Wnhh"
      },
      "outputs": [],
      "source": [
        "combined_dataset = list(zip(phone_data, user_data, rating_data))\n",
        "random.shuffle(combined_dataset)\n",
        "phone_dataset, user_dataset, rating_dataset = zip(*combined_dataset)\n",
        "phone_dataset, user_dataset, rating_dataset = list(phone_dataset), list(user_dataset), list(rating_dataset)"
      ]
    },
    {
      "cell_type": "code",
      "execution_count": 21,
      "metadata": {
        "id": "gItbxK_bUtN_"
      },
      "outputs": [],
      "source": [
        "phone_dataset = tf.convert_to_tensor(phone_dataset)\n",
        "user_dataset = tf.convert_to_tensor(user_dataset)\n",
        "rating_dataset = tf.convert_to_tensor(rating_dataset)"
      ]
    },
    {
      "cell_type": "markdown",
      "metadata": {
        "id": "13oapBBQYcll"
      },
      "source": [
        "Distribute data into training and validation set."
      ]
    },
    {
      "cell_type": "code",
      "execution_count": 22,
      "metadata": {
        "id": "PB0Er2q8EJ7F"
      },
      "outputs": [],
      "source": [
        "train_phone = phone_dataset[int(len(phone_dataset)/4):]\n",
        "train_user = user_dataset[int(len(user_dataset)/4):]\n",
        "train_rating = rating_dataset[int(len(rating_dataset)/4):]"
      ]
    },
    {
      "cell_type": "code",
      "execution_count": 23,
      "metadata": {
        "id": "7oobNSXrEsgl"
      },
      "outputs": [],
      "source": [
        "val_phone = phone_dataset[:int(len(phone_dataset)/4)]\n",
        "val_user = user_dataset[:int(len(user_dataset)/4)]\n",
        "val_rating = rating_dataset[:int(len(rating_dataset)/4)]"
      ]
    },
    {
      "cell_type": "markdown",
      "metadata": {
        "id": "K5UOjcVdADo4"
      },
      "source": [
        "Create a model with two inputs for user data and phone data, the output is the dot product of the two vectors from user_NN and phone_NN which is the predicted rating."
      ]
    },
    {
      "cell_type": "code",
      "execution_count": 24,
      "metadata": {
        "id": "MrovK6eIZz3y"
      },
      "outputs": [],
      "source": [
        "num_outputs = 128\n",
        "\n",
        "user_NN = tf.keras.models.Sequential([\n",
        "    tf.keras.layers.Dense(2048, activation='relu'),\n",
        "    tf.keras.layers.Dense(1024, activation='relu'),\n",
        "    tf.keras.layers.Dense(512, activation='relu'),\n",
        "    tf.keras.layers.Dense(256, activation='relu'),\n",
        "    tf.keras.layers.Dense(128, activation='relu')\n",
        "])\n",
        "\n",
        "phone_NN = tf.keras.models.Sequential([\n",
        "    tf.keras.layers.Dense(2048, activation='relu'),\n",
        "    tf.keras.layers.Dense(1024, activation='relu'),\n",
        "    tf.keras.layers.Dense(512, activation='relu'),\n",
        "    tf.keras.layers.Dense(256, activation='relu'),\n",
        "    tf.keras.layers.Dense(128, activation='relu')\n",
        "])\n",
        "\n",
        "user_input = tf.keras.layers.Input(shape=(17))\n",
        "user_vector = user_NN(user_input)\n",
        "normalized_user = tf.linalg.l2_normalize(user_vector, axis=1)\n",
        "\n",
        "phone_input = tf.keras.layers.Input(shape=(75))\n",
        "phone_vector = phone_NN(phone_input)\n",
        "normalized_phone = tf.linalg.l2_normalize(phone_vector, axis=1)\n",
        "\n",
        "output = tf.keras.layers.Dot(axes=1)([normalized_user,normalized_phone])\n",
        "output = tf.keras.layers.Lambda(lambda x: x * 5)(output)\n",
        "\n",
        "model = tf.keras.models.Model(inputs=[user_input,phone_input], outputs=output)\n",
        "user_model = tf.keras.models.Model(inputs=user_input, outputs=normalized_user)\n",
        "phone_model = tf.keras.models.Model(inputs=phone_input, outputs=normalized_phone)"
      ]
    },
    {
      "cell_type": "code",
      "execution_count": 25,
      "metadata": {
        "colab": {
          "base_uri": "https://localhost:8080/"
        },
        "id": "3wdFrwVVbzGP",
        "outputId": "09cc86ad-3a62-48d5-a534-05fc265b0493"
      },
      "outputs": [
        {
          "name": "stdout",
          "output_type": "stream",
          "text": [
            "Model: \"model\"\n",
            "__________________________________________________________________________________________________\n",
            " Layer (type)                Output Shape                 Param #   Connected to                  \n",
            "==================================================================================================\n",
            " input_1 (InputLayer)        [(None, 17)]                 0         []                            \n",
            "                                                                                                  \n",
            " input_2 (InputLayer)        [(None, 75)]                 0         []                            \n",
            "                                                                                                  \n",
            " sequential (Sequential)     (None, 128)                  2824064   ['input_1[0][0]']             \n",
            "                                                                                                  \n",
            " sequential_1 (Sequential)   (None, 128)                  2942848   ['input_2[0][0]']             \n",
            "                                                                                                  \n",
            " tf.math.l2_normalize (TFOp  (None, 128)                  0         ['sequential[0][0]']          \n",
            " Lambda)                                                                                          \n",
            "                                                                                                  \n",
            " tf.math.l2_normalize_1 (TF  (None, 128)                  0         ['sequential_1[0][0]']        \n",
            " OpLambda)                                                                                        \n",
            "                                                                                                  \n",
            " dot (Dot)                   (None, 1)                    0         ['tf.math.l2_normalize[0][0]',\n",
            "                                                                     'tf.math.l2_normalize_1[0][0]\n",
            "                                                                    ']                            \n",
            "                                                                                                  \n",
            " lambda (Lambda)             (None, 1)                    0         ['dot[0][0]']                 \n",
            "                                                                                                  \n",
            "==================================================================================================\n",
            "Total params: 5766912 (22.00 MB)\n",
            "Trainable params: 5766912 (22.00 MB)\n",
            "Non-trainable params: 0 (0.00 Byte)\n",
            "__________________________________________________________________________________________________\n"
          ]
        }
      ],
      "source": [
        "model.summary()"
      ]
    },
    {
      "cell_type": "code",
      "execution_count": 26,
      "metadata": {
        "colab": {
          "base_uri": "https://localhost:8080/"
        },
        "id": "QVIArzVCETpX",
        "outputId": "e575fe9a-7805-4cb0-adf0-88c8aacfe2b8"
      },
      "outputs": [
        {
          "name": "stdout",
          "output_type": "stream",
          "text": [
            "Model: \"model_1\"\n",
            "_________________________________________________________________\n",
            " Layer (type)                Output Shape              Param #   \n",
            "=================================================================\n",
            " input_1 (InputLayer)        [(None, 17)]              0         \n",
            "                                                                 \n",
            " sequential (Sequential)     (None, 128)               2824064   \n",
            "                                                                 \n",
            " tf.math.l2_normalize (TFOp  (None, 128)               0         \n",
            " Lambda)                                                         \n",
            "                                                                 \n",
            "=================================================================\n",
            "Total params: 2824064 (10.77 MB)\n",
            "Trainable params: 2824064 (10.77 MB)\n",
            "Non-trainable params: 0 (0.00 Byte)\n",
            "_________________________________________________________________\n"
          ]
        }
      ],
      "source": [
        "user_model.summary()"
      ]
    },
    {
      "cell_type": "code",
      "execution_count": 27,
      "metadata": {
        "colab": {
          "base_uri": "https://localhost:8080/"
        },
        "id": "G-IIzqDFEVyj",
        "outputId": "faedf490-9eea-4675-b563-5286b6086178"
      },
      "outputs": [
        {
          "name": "stdout",
          "output_type": "stream",
          "text": [
            "Model: \"model_2\"\n",
            "_________________________________________________________________\n",
            " Layer (type)                Output Shape              Param #   \n",
            "=================================================================\n",
            " input_2 (InputLayer)        [(None, 75)]              0         \n",
            "                                                                 \n",
            " sequential_1 (Sequential)   (None, 128)               2942848   \n",
            "                                                                 \n",
            " tf.math.l2_normalize_1 (TF  (None, 128)               0         \n",
            " OpLambda)                                                       \n",
            "                                                                 \n",
            "=================================================================\n",
            "Total params: 2942848 (11.23 MB)\n",
            "Trainable params: 2942848 (11.23 MB)\n",
            "Non-trainable params: 0 (0.00 Byte)\n",
            "_________________________________________________________________\n"
          ]
        }
      ],
      "source": [
        "phone_model.summary()"
      ]
    },
    {
      "cell_type": "code",
      "execution_count": 28,
      "metadata": {
        "id": "LygxlEeIgDOi"
      },
      "outputs": [],
      "source": [
        "model.compile(optimizer=tf.keras.optimizers.Adam(learning_rate=0.01), loss='mse')"
      ]
    },
    {
      "cell_type": "markdown",
      "metadata": {
        "id": "0OqDN0qACGWi"
      },
      "source": [
        "Train the model."
      ]
    },
    {
      "cell_type": "code",
      "execution_count": 29,
      "metadata": {
        "colab": {
          "base_uri": "https://localhost:8080/"
        },
        "id": "dV6hmL8aE8KL",
        "outputId": "cf8c62d3-4cec-4f90-a52b-ddb37fb877ab"
      },
      "outputs": [
        {
          "name": "stdout",
          "output_type": "stream",
          "text": [
            "Epoch 1/15\n",
            "128/128 [==============================] - 26s 185ms/step - loss: 0.4252 - val_loss: 0.3334\n",
            "Epoch 2/15\n",
            "128/128 [==============================] - 17s 130ms/step - loss: 0.3357 - val_loss: 0.3319\n",
            "Epoch 3/15\n",
            "128/128 [==============================] - 17s 136ms/step - loss: 0.3334 - val_loss: 0.3355\n",
            "Epoch 4/15\n",
            "128/128 [==============================] - 13s 104ms/step - loss: 0.3325 - val_loss: 0.3298\n",
            "Epoch 5/15\n",
            "128/128 [==============================] - 13s 100ms/step - loss: 0.3285 - val_loss: 0.3232\n",
            "Epoch 6/15\n",
            "128/128 [==============================] - 12s 95ms/step - loss: 0.3199 - val_loss: 0.3215\n",
            "Epoch 7/15\n",
            "128/128 [==============================] - 13s 101ms/step - loss: 0.3133 - val_loss: 0.3085\n",
            "Epoch 8/15\n",
            "128/128 [==============================] - 13s 102ms/step - loss: 0.3061 - val_loss: 0.3025\n",
            "Epoch 9/15\n",
            "128/128 [==============================] - 13s 100ms/step - loss: 0.3077 - val_loss: 0.3068\n",
            "Epoch 10/15\n",
            "128/128 [==============================] - 13s 99ms/step - loss: 0.3020 - val_loss: 0.3006\n",
            "Epoch 11/15\n",
            "128/128 [==============================] - 12s 94ms/step - loss: 0.3005 - val_loss: 0.3013\n",
            "Epoch 12/15\n",
            "128/128 [==============================] - 13s 100ms/step - loss: 0.2992 - val_loss: 0.3084\n",
            "Epoch 13/15\n",
            "128/128 [==============================] - 13s 100ms/step - loss: 0.3019 - val_loss: 0.3047\n",
            "Epoch 14/15\n",
            "128/128 [==============================] - 13s 100ms/step - loss: 0.2962 - val_loss: 0.3137\n",
            "Epoch 15/15\n",
            "128/128 [==============================] - 13s 99ms/step - loss: 0.2962 - val_loss: 0.2979\n"
          ]
        },
        {
          "data": {
            "text/plain": [
              "<keras.src.callbacks.History at 0x7f81c7d83160>"
            ]
          },
          "execution_count": 29,
          "metadata": {},
          "output_type": "execute_result"
        }
      ],
      "source": [
        "model.fit([train_user, train_phone], train_rating, epochs=15, validation_data=([val_user, val_phone], val_rating))"
      ]
    },
    {
      "cell_type": "code",
      "execution_count": 30,
      "metadata": {
        "colab": {
          "base_uri": "https://localhost:8080/"
        },
        "id": "jPUeJ5ILF2v2",
        "outputId": "a08c24a6-f774-4ca5-93e9-9e95d6a92b39"
      },
      "outputs": [
        {
          "name": "stdout",
          "output_type": "stream",
          "text": [
            "43/43 [==============================] - 1s 14ms/step - loss: 0.2979\n"
          ]
        },
        {
          "data": {
            "text/plain": [
              "0.297928124666214"
            ]
          },
          "execution_count": 30,
          "metadata": {},
          "output_type": "execute_result"
        }
      ],
      "source": [
        "model.evaluate([val_user, val_phone], val_rating)"
      ]
    },
    {
      "cell_type": "code",
      "execution_count": 31,
      "metadata": {
        "id": "TKTNPtc8t6dr"
      },
      "outputs": [],
      "source": [
        "model.save('model.keras')"
      ]
    },
    {
      "cell_type": "code",
      "execution_count": 32,
      "metadata": {
        "id": "nzUas7XBt8Pe"
      },
      "outputs": [],
      "source": [
        "user_model.save('user_model.keras')"
      ]
    },
    {
      "cell_type": "code",
      "execution_count": 33,
      "metadata": {
        "id": "57ppXGoZt_Sx"
      },
      "outputs": [],
      "source": [
        "phone_model.save('phone_model.keras')"
      ]
    },
    {
      "cell_type": "markdown",
      "metadata": {
        "id": "Kr1ZtpMKG4ZG"
      },
      "source": [
        "Predict rating."
      ]
    },
    {
      "cell_type": "code",
      "execution_count": 34,
      "metadata": {
        "colab": {
          "base_uri": "https://localhost:8080/"
        },
        "id": "CvkJw0OGWVMT",
        "outputId": "1f1e5831-f4e7-440a-f1dc-0f4c1c3ffe4d"
      },
      "outputs": [
        {
          "name": "stdout",
          "output_type": "stream",
          "text": [
            "1/1 [==============================] - 0s 156ms/step\n"
          ]
        },
        {
          "data": {
            "text/plain": [
              "array([[4.388136]], dtype=float32)"
            ]
          },
          "execution_count": 34,
          "metadata": {},
          "output_type": "execute_result"
        }
      ],
      "source": [
        "model.predict([tf.convert_to_tensor([user_data[5]]), tf.convert_to_tensor([phone_data[5]])])"
      ]
    },
    {
      "cell_type": "code",
      "execution_count": 35,
      "metadata": {
        "colab": {
          "base_uri": "https://localhost:8080/"
        },
        "id": "C8jvb62qbLU6",
        "outputId": "6dd40621-5c82-4d72-b4ff-ae3aa03de5ed"
      },
      "outputs": [
        {
          "data": {
            "text/plain": [
              "3.0"
            ]
          },
          "execution_count": 35,
          "metadata": {},
          "output_type": "execute_result"
        }
      ],
      "source": [
        "rating_data[5]"
      ]
    },
    {
      "cell_type": "code",
      "execution_count": 36,
      "metadata": {
        "colab": {
          "base_uri": "https://localhost:8080/"
        },
        "id": "exCugB8cFKZ0",
        "outputId": "491c2999-0319-40de-e4a4-7a80f8aa4755"
      },
      "outputs": [
        {
          "data": {
            "text/plain": [
              "<tf.Tensor: shape=(17,), dtype=float32, numpy=\n",
              "array([4., 5., 5., 4., 5., 5., 0., 0., 0., 1., 0., 0., 0., 0., 0., 0., 0.],\n",
              "      dtype=float32)>"
            ]
          },
          "execution_count": 36,
          "metadata": {},
          "output_type": "execute_result"
        }
      ],
      "source": [
        "user_data[5]"
      ]
    },
    {
      "cell_type": "markdown",
      "metadata": {
        "id": "zdWu8hyLG72u"
      },
      "source": [
        "Predict rating by dot product of user vector and phone vector."
      ]
    },
    {
      "cell_type": "code",
      "execution_count": 37,
      "metadata": {
        "colab": {
          "base_uri": "https://localhost:8080/"
        },
        "id": "fUjGXo5OEtbW",
        "outputId": "08f6e600-115e-413c-ac96-b5599b1cceeb"
      },
      "outputs": [
        {
          "name": "stdout",
          "output_type": "stream",
          "text": [
            "1/1 [==============================] - 0s 75ms/step\n",
            "1/1 [==============================] - 0s 91ms/step\n"
          ]
        },
        {
          "data": {
            "text/plain": [
              "<tf.Tensor: shape=(1, 1), dtype=float32, numpy=array([[4.388136]], dtype=float32)>"
            ]
          },
          "execution_count": 37,
          "metadata": {},
          "output_type": "execute_result"
        }
      ],
      "source": [
        "user_vector_pred = user_model.predict(tf.expand_dims(user_data[5], 0))\n",
        "phone_vector_pred = phone_model.predict(tf.expand_dims(phone_data[5], 0))\n",
        "tf.tensordot(user_vector_pred, phone_vector_pred, axes=(1,1)) * 5"
      ]
    },
    {
      "cell_type": "markdown",
      "metadata": {
        "id": "Q0wa7icqCLuB"
      },
      "source": [
        "Preprocess data into input compatible with the model."
      ]
    },
    {
      "cell_type": "code",
      "execution_count": 38,
      "metadata": {
        "id": "JWgNH5qmYGmV"
      },
      "outputs": [],
      "source": [
        "def preprocess_user(x):\n",
        "  one_hot = x[-1]\n",
        "  one_hot = tf.one_hot(brand_choice_list.index(one_hot), len(brand_choice_list))\n",
        "  x = tf.cast(tf.convert_to_tensor(x[:-1]), tf.float32)\n",
        "  return tf.expand_dims(tf.concat([x, one_hot], 0), 0)"
      ]
    },
    {
      "cell_type": "code",
      "execution_count": 39,
      "metadata": {
        "id": "-14XAy6QpTPH"
      },
      "outputs": [],
      "source": [
        "a = [5,5,5,5,5,5,'Infinix'] # performance, camera, battery, software, RAM, storage, favorite brand\n",
        "preprocessed_output = preprocess_user(a)"
      ]
    },
    {
      "cell_type": "markdown",
      "metadata": {
        "id": "8qxp2EGxhV2i"
      },
      "source": [
        "Create a user vector."
      ]
    },
    {
      "cell_type": "code",
      "execution_count": 40,
      "metadata": {
        "colab": {
          "base_uri": "https://localhost:8080/"
        },
        "id": "sqSrA6rEHeIZ",
        "outputId": "bb00503e-a12f-467a-b5df-575ad892deaa"
      },
      "outputs": [
        {
          "name": "stdout",
          "output_type": "stream",
          "text": [
            "1/1 [==============================] - 0s 20ms/step\n"
          ]
        }
      ],
      "source": [
        "u_vector = user_model.predict(preprocessed_output)"
      ]
    },
    {
      "cell_type": "code",
      "execution_count": 41,
      "metadata": {
        "colab": {
          "base_uri": "https://localhost:8080/"
        },
        "id": "HOq7XIrAisYg",
        "outputId": "199ae276-f4b7-4194-87f5-025dc1ed4681"
      },
      "outputs": [
        {
          "data": {
            "text/plain": [
              "(1, 128)"
            ]
          },
          "execution_count": 41,
          "metadata": {},
          "output_type": "execute_result"
        }
      ],
      "source": [
        "u_vector.shape"
      ]
    },
    {
      "cell_type": "markdown",
      "metadata": {
        "id": "N-YZKO9UhaBi"
      },
      "source": [
        "Create phone vectors."
      ]
    },
    {
      "cell_type": "code",
      "execution_count": 42,
      "metadata": {
        "colab": {
          "base_uri": "https://localhost:8080/"
        },
        "id": "Cyrlpez5gTCX",
        "outputId": "8acd617f-fa03-44e6-d67e-e32f67eed7b9"
      },
      "outputs": [
        {
          "name": "stdout",
          "output_type": "stream",
          "text": [
            "3/3 [==============================] - 0s 9ms/step\n"
          ]
        }
      ],
      "source": [
        "p_vector = phone_model.predict(phone)"
      ]
    },
    {
      "cell_type": "code",
      "execution_count": 43,
      "metadata": {
        "colab": {
          "base_uri": "https://localhost:8080/"
        },
        "id": "c76BOS4Miu4Z",
        "outputId": "d37a5253-7c69-4544-a3c2-25a21ad65dc2"
      },
      "outputs": [
        {
          "data": {
            "text/plain": [
              "(96, 128)"
            ]
          },
          "execution_count": 43,
          "metadata": {},
          "output_type": "execute_result"
        }
      ],
      "source": [
        "p_vector.shape"
      ]
    },
    {
      "cell_type": "markdown",
      "metadata": {
        "id": "Ih7Ro5TdoUOv"
      },
      "source": [
        "Save phone vectors into csv file."
      ]
    },
    {
      "cell_type": "code",
      "execution_count": 128,
      "metadata": {
        "id": "vU1gsGvFoAoP"
      },
      "outputs": [],
      "source": [
        "with open('phone_vector.csv', 'w') as file:\n",
        "  csvwriter = csv.writer(file)\n",
        "  csvwriter.writerows(p_vector)"
      ]
    },
    {
      "cell_type": "markdown",
      "metadata": {
        "id": "uVXbM6oChem3"
      },
      "source": [
        "Predict phone ratings for a user."
      ]
    },
    {
      "cell_type": "code",
      "execution_count": 44,
      "metadata": {
        "id": "bmy4BANth4C5"
      },
      "outputs": [],
      "source": [
        "rating_pred_list = []\n",
        "for p in p_vector:\n",
        "  rating_pred_list.append(tf.tensordot(u_vector, tf.expand_dims(p, 0), axes=(1,1)) * 5)"
      ]
    },
    {
      "cell_type": "markdown",
      "metadata": {
        "id": "6AhyBP7Fr8NL"
      },
      "source": [
        "Get phone name."
      ]
    },
    {
      "cell_type": "code",
      "execution_count": 45,
      "metadata": {
        "id": "nlc4souOinUD"
      },
      "outputs": [],
      "source": [
        "phone_pred_list = phone_dict['phone_name']"
      ]
    },
    {
      "cell_type": "markdown",
      "metadata": {
        "id": "L_PQ9x62r-ti"
      },
      "source": [
        "Sort ratings to get top 10 recommended phones for a user."
      ]
    },
    {
      "cell_type": "code",
      "execution_count": 46,
      "metadata": {
        "id": "dhuJ5_dtrJUq"
      },
      "outputs": [],
      "source": [
        "top_10_phone = list(zip(rating_pred_list, phone_pred_list))\n",
        "top_10_phone.sort(reverse=True)\n",
        "rating_pred_list, phone_pred_list = zip(*top_10_phone)\n",
        "rating_pred_list, phone_pred_list = list(rating_pred_list), list(phone_pred_list)"
      ]
    },
    {
      "cell_type": "markdown",
      "metadata": {
        "id": "JBWy8kyVsHI7"
      },
      "source": [
        "Print out top 10 recommended phones."
      ]
    },
    {
      "cell_type": "code",
      "execution_count": 47,
      "metadata": {
        "colab": {
          "base_uri": "https://localhost:8080/"
        },
        "id": "VDeR4FHdkPqv",
        "outputId": "90d3ab39-9d31-498f-e4b1-68e2585b1ddc"
      },
      "outputs": [
        {
          "name": "stdout",
          "output_type": "stream",
          "text": [
            "1 Oppo Find N3 [[4.422674]]\n",
            "2 Samsung Galaxy Z Fold5 [[4.4226365]]\n",
            "3 Xiaomi 14 [[4.422406]]\n",
            "4 Oppo Find X7 [[4.4222746]]\n",
            "5 Huawei Pura 70 Ultra [[4.422265]]\n",
            "6 iPhone 15 Pro Max [[4.4222627]]\n",
            "7 iPhone 15 Pro [[4.422254]]\n",
            "8 iPhone 14 Pro [[4.4221883]]\n",
            "9 Vivo V30 Pro [[4.4221864]]\n",
            "10 iPhone 14 Pro Max [[4.4221835]]\n"
          ]
        }
      ],
      "source": [
        "top_10_list = []\n",
        "for i in range(10):\n",
        "  top_10_list.append(phone_pred_list[i])\n",
        "  print(i+1, phone_pred_list[i], rating_pred_list[i].numpy())"
      ]
    },
    {
      "cell_type": "code",
      "execution_count": 48,
      "metadata": {
        "colab": {
          "base_uri": "https://localhost:8080/"
        },
        "id": "NfBCbAr9sT_3",
        "outputId": "59cd23cb-1316-4836-9837-8e9beaeb9ff3"
      },
      "outputs": [
        {
          "data": {
            "text/plain": [
              "['Oppo Find N3',\n",
              " 'Samsung Galaxy Z Fold5',\n",
              " 'Xiaomi 14',\n",
              " 'Oppo Find X7',\n",
              " 'Huawei Pura 70 Ultra',\n",
              " 'iPhone 15 Pro Max',\n",
              " 'iPhone 15 Pro',\n",
              " 'iPhone 14 Pro',\n",
              " 'Vivo V30 Pro',\n",
              " 'iPhone 14 Pro Max']"
            ]
          },
          "execution_count": 48,
          "metadata": {},
          "output_type": "execute_result"
        }
      ],
      "source": [
        "top_10_list"
      ]
    },
    {
      "cell_type": "markdown",
      "metadata": {
        "id": "lQnmFRssnwqw"
      },
      "source": [
        "Calculate square distance between phone vectors to get related phones."
      ]
    },
    {
      "cell_type": "code",
      "execution_count": 100,
      "metadata": {
        "id": "np6DW5xTXyN9"
      },
      "outputs": [],
      "source": [
        "top_distance = []\n",
        "top_distance_name = []\n",
        "for i,x in enumerate(phone):\n",
        "  all_distance = []\n",
        "  phone_pred_list = phone_dict['phone_name']\n",
        "  for j,y in enumerate(phone):\n",
        "    if tf.math.reduce_all(tf.math.equal(x,y)):\n",
        "      continue\n",
        "    else:\n",
        "      all_distance.append(tf.math.reduce_sum(tf.math.square(x-y)))\n",
        "  phone_pred_list = phone_pred_list[:i] + phone_pred_list[i+1:]\n",
        "  combined_dist = list(zip(all_distance, phone_pred_list))\n",
        "  combined_dist.sort()\n",
        "  all_distance, phone_pred_list = zip(*combined_dist)\n",
        "  all_distance, phone_pred_list = list(all_distance), list(phone_pred_list)\n",
        "  top_distance.append(all_distance[:10])\n",
        "  top_distance_name.append(phone_pred_list[:10])"
      ]
    },
    {
      "cell_type": "markdown",
      "metadata": {
        "id": "12ITF96zn32J"
      },
      "source": [
        "Save related phones data into csv file."
      ]
    },
    {
      "cell_type": "code",
      "execution_count": 126,
      "metadata": {
        "id": "dOhZAaG9lZt4"
      },
      "outputs": [],
      "source": [
        "with open('related_phone.csv', 'w') as file:\n",
        "  csvwriter = csv.writer(file)\n",
        "  csvwriter.writerow(['phone_name', 'related1', 'related2', 'related3', 'related4', 'related5', 'related6', 'related7', 'related8', 'related9', 'related10'])\n",
        "  for i in range(96):\n",
        "    csvwriter.writerow([phone_dict['phone_name'][i], top_distance_name[i][0], top_distance_name[i][1], top_distance_name[i][2], top_distance_name[i][3], top_distance_name[i][4], top_distance_name[i][5], top_distance_name[i][6], top_distance_name[i][7], top_distance_name[i][8], top_distance_name[i][9]])"
      ]
    }
  ],
  "metadata": {
    "colab": {
      "provenance": []
    },
    "kernelspec": {
      "display_name": "Python 3",
      "name": "python3"
    },
    "language_info": {
      "name": "python"
    }
  },
  "nbformat": 4,
  "nbformat_minor": 0
}
