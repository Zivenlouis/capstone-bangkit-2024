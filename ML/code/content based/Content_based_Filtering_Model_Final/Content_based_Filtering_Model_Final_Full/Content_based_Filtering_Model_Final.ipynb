{
  "nbformat": 4,
  "nbformat_minor": 0,
  "metadata": {
    "colab": {
      "provenance": []
    },
    "kernelspec": {
      "name": "python3",
      "display_name": "Python 3"
    },
    "language_info": {
      "name": "python"
    }
  },
  "cells": [
    {
      "cell_type": "markdown",
      "source": [
        "# Content-based Filtering Model Final"
      ],
      "metadata": {
        "id": "3zcaCg9Q-dlP"
      }
    },
    {
      "cell_type": "code",
      "execution_count": null,
      "metadata": {
        "id": "lTSivqgt1Rfh"
      },
      "outputs": [],
      "source": [
        "import csv\n",
        "import random\n",
        "import tensorflow as tf"
      ]
    },
    {
      "cell_type": "markdown",
      "source": [
        "Create a list of brand choice for one hot encoding."
      ],
      "metadata": {
        "id": "ibsRfIGuAwug"
      }
    },
    {
      "cell_type": "code",
      "source": [
        "user_dict = {}\n",
        "brand_choice_list = ['Oppo', 'Asus', 'Infinix', 'Samsung', 'Vivo', 'Huawei', 'Apple', 'Realme', 'Xiaomi', 'Poco', 'lainnya/tidak ada']"
      ],
      "metadata": {
        "id": "VXZwCmzc4YfB"
      },
      "execution_count": null,
      "outputs": []
    },
    {
      "cell_type": "markdown",
      "source": [
        "Create user_list"
      ],
      "metadata": {
        "id": "DY7OPIt0VCBr"
      }
    },
    {
      "cell_type": "code",
      "source": [
        "user_row = 1507\n",
        "user_column = 7\n",
        "user_list = [[0 for _ in range(user_column)] for _ in range(user_row)]"
      ],
      "metadata": {
        "id": "LS01TBFPVjrc"
      },
      "execution_count": null,
      "outputs": []
    },
    {
      "cell_type": "markdown",
      "source": [
        "Access user dataset from csv file."
      ],
      "metadata": {
        "id": "phxDic6Z-rbj"
      }
    },
    {
      "cell_type": "code",
      "source": [
        "with open('user_surveys.csv', 'r') as file:\n",
        "  user_dict['user'] = []\n",
        "  user_dict['user_fav'] = []\n",
        "  user_index = []\n",
        "  csvFile = csv.reader(file)\n",
        "  next(csvFile)\n",
        "  for line in csvFile:\n",
        "    user_index.append(int(line[0])-1)\n",
        "    user_dict[f'user'].append([int(line[1]), int(line[2]), int(line[3]), int(line[4]), int(line[5]), int(line[6])])\n",
        "    user_dict[f'user_fav'].append(int(line[8]))"
      ],
      "metadata": {
        "id": "bkCkzwffEpBb"
      },
      "execution_count": null,
      "outputs": []
    },
    {
      "cell_type": "markdown",
      "source": [
        "Convert user features to tensors and one hot encode one of user features, and then concatenate them."
      ],
      "metadata": {
        "id": "leXTOXiZ-ykH"
      }
    },
    {
      "cell_type": "code",
      "source": [
        "user_feature1_6 = tf.cast(tf.convert_to_tensor(user_dict['user']), tf.float32)\n",
        "user_feature7 = tf.one_hot(user_dict['user_fav'], len(brand_choice_list))\n",
        "user = tf.concat([user_feature1_6, user_feature7], 1)"
      ],
      "metadata": {
        "id": "SYybH4qnE__V"
      },
      "execution_count": null,
      "outputs": []
    },
    {
      "cell_type": "markdown",
      "source": [
        "User features are performance, camera, battery, software, RAM, storage, and favorite brand."
      ],
      "metadata": {
        "id": "tTBfDEmPAjk9"
      }
    },
    {
      "cell_type": "code",
      "source": [
        "user[0]"
      ],
      "metadata": {
        "id": "84AknkZKWLed",
        "colab": {
          "base_uri": "https://localhost:8080/"
        },
        "outputId": "69d9bcc5-53e6-41b7-e4e5-de244fa16195"
      },
      "execution_count": null,
      "outputs": [
        {
          "output_type": "execute_result",
          "data": {
            "text/plain": [
              "<tf.Tensor: shape=(17,), dtype=float32, numpy=\n",
              "array([3., 5., 3., 1., 3., 1., 0., 0., 0., 0., 0., 0., 1., 0., 0., 0., 0.],\n",
              "      dtype=float32)>"
            ]
          },
          "metadata": {},
          "execution_count": 6
        }
      ]
    },
    {
      "cell_type": "markdown",
      "source": [
        "Create a brand list and os list for one hot encoding."
      ],
      "metadata": {
        "id": "2QCM4HGmA5fJ"
      }
    },
    {
      "cell_type": "code",
      "source": [
        "phone_dict = {}\n",
        "brand_list = ['Oppo', 'Asus', 'Infinix', 'Samsung', 'Vivo', 'Huawei', 'Apple', 'Realme', 'Xiaomi', 'Poco']\n",
        "os_list = ['iOS', 'EMUI', 'Android']\n",
        "chipset_list = ['unisoc', 'helio','dimensity_6', 'dimensity_7', 'dimensity_8', 'dimensity_9', 'snapdragon_6', 'snapdragon_7', 'snapdragon_8', 'exynos_1', 'exynos_2', 'kirin', 'apple']\n",
        "price_list = ['_2', '2_3', '3_4', '4_6', '6_8', '8_10', '10_']"
      ],
      "metadata": {
        "id": "Ox68dlOJ41TB"
      },
      "execution_count": null,
      "outputs": []
    },
    {
      "cell_type": "markdown",
      "source": [
        "Access phone dataset from csv file.<br>\n",
        "Preprocess the data,  one hot encode some of the features, normalize some of the features.<br>\n",
        "Then concatenate all the phone data."
      ],
      "metadata": {
        "id": "DKj3MQpG_Dka"
      }
    },
    {
      "cell_type": "code",
      "source": [
        "with open('phone_dataset.csv', 'r') as file:\n",
        "  phone_dict = {'phone_brand': [], 'phone_name': [], 'phone_weight': [], 'phone_os': [], 'phone_chipset': [], 'phone_memory': [], 'phone_ram': [], 'phone_camera': [], 'phone_audio_jack': [], 'phone_battery': [], 'phone_charging': [], 'phone_nfc': [], 'phone_price': []}\n",
        "  csvFile = csv.reader(file)\n",
        "  next(csvFile)\n",
        "  for i,line in enumerate(csvFile):\n",
        "    phone_dict['phone_brand'].append(brand_list.index(line[1]))\n",
        "    phone_dict['phone_name'].append(line[2])\n",
        "    phone_dict['phone_weight'].append(float(line[6]))\n",
        "    phone_dict['phone_os'].append(os_list.index('iOS' if line[7].startswith('iOS') else 'EMUI' if line[7].startswith('EMUI') else 'Android'))\n",
        "    phone_dict['phone_chipset'].append(chipset_list.index('unisoc' if 'unisoc' in line[8].lower()\n",
        "                                                          else 'helio' if 'helio' in line[8].lower()\n",
        "                                                          else 'dimensity_6' if 'dimensity 6' in line[8].lower()\n",
        "                                                          else 'dimensity_7' if 'dimensity 7' in line[8].lower()\n",
        "                                                          else 'dimensity_8' if 'dimensity 8' in line[8].lower()\n",
        "                                                          else 'dimensity_9' if 'dimensity 9' in line[8].lower()\n",
        "                                                          else 'snapdragon_6' if 'snapdragon 6' in line[8].lower()\n",
        "                                                          else 'snapdragon_7' if 'snapdragon 7' in line[8].lower()\n",
        "                                                          else 'snapdragon_8' if 'snapdragon 8' in line[8].lower()\n",
        "                                                          else 'exynos_1' if 'exynos 1' in line[8].lower()\n",
        "                                                          else 'exynos_2' if 'exynos 2' in line[8].lower()\n",
        "                                                          else 'kirin' if 'kirin' in line[8].lower()\n",
        "                                                          else 'apple' if 'apple' in line[8].lower() else ''))\n",
        "    phone_dict['phone_memory'].append(float(line[9]))\n",
        "    phone_dict['phone_ram'].append(float(line[10]))\n",
        "    phone_dict['phone_camera'].append([float(line[11]), float(line[12]), float(line[13]), float(line[14])])\n",
        "    phone_dict['phone_audio_jack'].append(1.0 if line[15] == 'TRUE' else 0.0)\n",
        "    phone_dict['phone_battery'].append(float(line[16]))\n",
        "    phone_dict['phone_charging'].append(float(line[17]))\n",
        "    phone_dict['phone_nfc'].append(1.0 if line[19] == 'TRUE' else 0.0)\n",
        "    phone_dict['phone_price'].append(price_list.index('_2' if int(line[20]) < 2000000\n",
        "                                                      else '2_3' if int(line[20]) < 3000000\n",
        "                                                      else '3_4' if int(line[20]) < 4000000\n",
        "                                                      else '4_6' if int(line[20]) < 6000000\n",
        "                                                      else '6_8' if int(line[20]) < 8000000\n",
        "                                                      else '8_10' if int(line[20]) < 10000000\n",
        "                                                      else '10_'))"
      ],
      "metadata": {
        "id": "RnsoSCDw4396"
      },
      "execution_count": null,
      "outputs": []
    },
    {
      "cell_type": "code",
      "source": [
        "phone_brand = tf.one_hot(phone_dict['phone_brand'], len(brand_list))\n",
        "phone_weight = tf.expand_dims(tf.convert_to_tensor(phone_dict['phone_weight']) / max(phone_dict['phone_weight']), 1)\n",
        "phone_os = tf.one_hot(phone_dict['phone_os'], len(os_list))\n",
        "phone_chipset = tf.one_hot(phone_dict['phone_chipset'], len(chipset_list))\n",
        "phone_memory = tf.expand_dims(tf.convert_to_tensor(phone_dict['phone_memory']), 1)  / max(phone_dict['phone_memory'])\n",
        "phone_ram = tf.expand_dims(tf.convert_to_tensor(phone_dict['phone_ram']), 1) / max(phone_dict['phone_ram'])\n",
        "phone_camera = tf.convert_to_tensor(phone_dict['phone_camera'])\n",
        "phone_audio_jack = tf.expand_dims(tf.convert_to_tensor(phone_dict['phone_audio_jack']), 1)\n",
        "phone_battery = tf.expand_dims(tf.convert_to_tensor(phone_dict['phone_battery']), 1) / max(phone_dict['phone_battery'])\n",
        "phone_charging = tf.expand_dims(tf.convert_to_tensor(phone_dict['phone_charging']), 1)\n",
        "phone_nfc = tf.expand_dims(tf.convert_to_tensor(phone_dict['phone_nfc']), 1)\n",
        "phone_price = tf.one_hot(phone_dict['phone_price'], len(price_list))"
      ],
      "metadata": {
        "id": "cPVRIyYSaiwT"
      },
      "execution_count": null,
      "outputs": []
    },
    {
      "cell_type": "code",
      "source": [
        "phone = tf.concat([phone_brand, phone_weight, phone_os, phone_chipset, phone_memory, phone_ram, phone_camera, phone_audio_jack, phone_battery, phone_charging, phone_nfc, phone_price], 1)"
      ],
      "metadata": {
        "id": "UWIiW1Gpa6Ga"
      },
      "execution_count": null,
      "outputs": []
    },
    {
      "cell_type": "markdown",
      "source": [
        "Phone features are brand, weight, os, chipset, memory, RAM, camera 1, camera 2, camera 3, selfie camera, audio jack, battery, charging, nfc, and price."
      ],
      "metadata": {
        "id": "-5XpbFOqBaVR"
      }
    },
    {
      "cell_type": "code",
      "source": [
        "phone[0]"
      ],
      "metadata": {
        "id": "ZRLElV0-XBfZ",
        "collapsed": true,
        "colab": {
          "base_uri": "https://localhost:8080/"
        },
        "outputId": "af132cf7-f620-4d10-c3b7-f40e90576967"
      },
      "execution_count": null,
      "outputs": [
        {
          "output_type": "execute_result",
          "data": {
            "text/plain": [
              "<tf.Tensor: shape=(44,), dtype=float32, numpy=\n",
              "array([ 1.        ,  0.        ,  0.        ,  0.        ,  0.        ,\n",
              "        0.        ,  0.        ,  0.        ,  0.        ,  0.        ,\n",
              "        0.33643124,  0.        ,  0.        ,  1.        ,  0.        ,\n",
              "        0.        ,  0.        ,  0.        ,  1.        ,  0.        ,\n",
              "        0.        ,  0.        ,  0.        ,  0.        ,  0.        ,\n",
              "        0.        ,  0.        ,  0.5       ,  0.5       , 50.        ,\n",
              "       32.        ,  8.        , 32.        ,  0.        ,  0.575     ,\n",
              "       80.        ,  0.        ,  0.        ,  0.        ,  0.        ,\n",
              "        0.        ,  0.        ,  1.        ,  0.        ], dtype=float32)>"
            ]
          },
          "metadata": {},
          "execution_count": 11
        }
      ]
    },
    {
      "cell_type": "markdown",
      "source": [
        "Create a rating dictionary and a rating list."
      ],
      "metadata": {
        "id": "nbb9mEGHBvxJ"
      }
    },
    {
      "cell_type": "code",
      "source": [
        "rating_dict = {}"
      ],
      "metadata": {
        "id": "I3KdE-uH3UD_"
      },
      "execution_count": null,
      "outputs": []
    },
    {
      "cell_type": "code",
      "source": [
        "rating = [[0.0 for _ in range(1507)] for _ in range(96)]"
      ],
      "metadata": {
        "id": "ob1FJCnES5wm"
      },
      "execution_count": null,
      "outputs": []
    },
    {
      "cell_type": "code",
      "source": [
        "rating[0][0]"
      ],
      "metadata": {
        "id": "jkqpXN8NTj1W",
        "colab": {
          "base_uri": "https://localhost:8080/"
        },
        "outputId": "72e2f4f0-9271-45b4-9405-ddbdc1db3bb3"
      },
      "execution_count": null,
      "outputs": [
        {
          "output_type": "execute_result",
          "data": {
            "text/plain": [
              "0.0"
            ]
          },
          "metadata": {},
          "execution_count": 14
        }
      ]
    },
    {
      "cell_type": "markdown",
      "source": [
        "Access rating dataset from csv file and only save the ratings from the users with information."
      ],
      "metadata": {
        "id": "OW-5ovGS_iUi"
      }
    },
    {
      "cell_type": "code",
      "source": [
        "with open('user_ratings.csv', 'r') as file:\n",
        "  csvFile = csv.reader(file)\n",
        "  next(csvFile)\n",
        "  for line in csvFile:\n",
        "    if (int(line[0])-1) in user_index and line[2]:\n",
        "      rating[int(line[1])-1][int(line[0])-1] = float(line[2])"
      ],
      "metadata": {
        "id": "K5lHmRCKpVkD"
      },
      "execution_count": null,
      "outputs": []
    },
    {
      "cell_type": "code",
      "source": [
        "print(rating[17][500])\n",
        "print(rating[4][1])\n",
        "print(rating[9][0])"
      ],
      "metadata": {
        "id": "KmpFxMaiTOvZ",
        "colab": {
          "base_uri": "https://localhost:8080/"
        },
        "outputId": "f81efde9-7ae1-432a-a9dd-98608c08b72a"
      },
      "execution_count": null,
      "outputs": [
        {
          "output_type": "stream",
          "name": "stdout",
          "text": [
            "4.0\n",
            "0.0\n",
            "0.0\n"
          ]
        }
      ]
    },
    {
      "cell_type": "code",
      "source": [
        "phone_data = []\n",
        "user_data = []\n",
        "rating_data = []"
      ],
      "metadata": {
        "id": "GZICugZmZ1LZ"
      },
      "execution_count": null,
      "outputs": []
    },
    {
      "cell_type": "markdown",
      "source": [
        "Save the phone data and user data for training only for the rated phone."
      ],
      "metadata": {
        "id": "xQfUoDL8_u5g"
      }
    },
    {
      "cell_type": "code",
      "source": [
        "for i,p in enumerate(phone):\n",
        "  for j,u in zip(user_index, user):\n",
        "    if rating[i][j] > 0:\n",
        "      phone_data.append(phone[i])\n",
        "      user_data.append(user[user_index.index(j)])\n",
        "      rating_data.append(rating[i][j])"
      ],
      "metadata": {
        "id": "GnqkHGMUZdPH"
      },
      "execution_count": null,
      "outputs": []
    },
    {
      "cell_type": "code",
      "source": [
        "len(phone_data)"
      ],
      "metadata": {
        "id": "9wIOEBr6e7Y0",
        "colab": {
          "base_uri": "https://localhost:8080/"
        },
        "outputId": "00833a07-fa66-4e7f-dac2-c4024fa87363"
      },
      "execution_count": null,
      "outputs": [
        {
          "output_type": "execute_result",
          "data": {
            "text/plain": [
              "5439"
            ]
          },
          "metadata": {},
          "execution_count": 19
        }
      ]
    },
    {
      "cell_type": "markdown",
      "source": [
        "Convert phone data, user data, and rating data to tensors and shuffle them."
      ],
      "metadata": {
        "id": "YdSyeVwv_6Ww"
      }
    },
    {
      "cell_type": "code",
      "source": [
        "combined_dataset = list(zip(phone_data, user_data, rating_data))\n",
        "random.shuffle(combined_dataset)\n",
        "phone_dataset, user_dataset, rating_dataset = zip(*combined_dataset)\n",
        "phone_dataset, user_dataset, rating_dataset = list(phone_dataset), list(user_dataset), list(rating_dataset)"
      ],
      "metadata": {
        "id": "3hz-cjs3Wnhh"
      },
      "execution_count": null,
      "outputs": []
    },
    {
      "cell_type": "code",
      "source": [
        "phone_dataset = tf.convert_to_tensor(phone_dataset)\n",
        "user_dataset = tf.convert_to_tensor(user_dataset)\n",
        "rating_dataset = tf.convert_to_tensor(rating_dataset)"
      ],
      "metadata": {
        "id": "gItbxK_bUtN_"
      },
      "execution_count": null,
      "outputs": []
    },
    {
      "cell_type": "markdown",
      "source": [
        "Distribute data into training and validation set."
      ],
      "metadata": {
        "id": "13oapBBQYcll"
      }
    },
    {
      "cell_type": "code",
      "source": [
        "train_phone = phone_dataset[int(len(phone_dataset)/4):]\n",
        "train_user = user_dataset[int(len(user_dataset)/4):]\n",
        "train_rating = rating_dataset[int(len(rating_dataset)/4):]"
      ],
      "metadata": {
        "id": "PB0Er2q8EJ7F"
      },
      "execution_count": null,
      "outputs": []
    },
    {
      "cell_type": "code",
      "source": [
        "val_phone = phone_dataset[:int(len(phone_dataset)/4)]\n",
        "val_user = user_dataset[:int(len(user_dataset)/4)]\n",
        "val_rating = rating_dataset[:int(len(rating_dataset)/4)]"
      ],
      "metadata": {
        "id": "7oobNSXrEsgl"
      },
      "execution_count": null,
      "outputs": []
    },
    {
      "cell_type": "markdown",
      "source": [
        "Create a model with two inputs for user data and phone data, the output is the dot product of the two vectors from user_NN and phone_NN which is the predicted rating."
      ],
      "metadata": {
        "id": "K5UOjcVdADo4"
      }
    },
    {
      "cell_type": "code",
      "source": [
        "num_outputs = 32\n",
        "\n",
        "user_NN = tf.keras.models.Sequential([\n",
        "    tf.keras.layers.Dense(256, activation='relu'),\n",
        "    tf.keras.layers.Dense(128, activation='relu'),\n",
        "    tf.keras.layers.Dense(num_outputs)\n",
        "])\n",
        "\n",
        "phone_NN = tf.keras.models.Sequential([\n",
        "    tf.keras.layers.Dense(256, activation='relu'),\n",
        "    tf.keras.layers.Dense(128, activation='relu'),\n",
        "    tf.keras.layers.Dense(num_outputs)\n",
        "])\n",
        "\n",
        "user_input = tf.keras.layers.Input(shape=(17))\n",
        "user_vector = user_NN(user_input)\n",
        "normalized_user = tf.linalg.l2_normalize(user_vector, axis=1)\n",
        "\n",
        "phone_input = tf.keras.layers.Input(shape=(44))\n",
        "phone_vector = phone_NN(phone_input)\n",
        "normalized_phone = tf.linalg.l2_normalize(phone_vector, axis=1)\n",
        "\n",
        "output = tf.keras.layers.Dot(axes=1)([normalized_user,normalized_phone])\n",
        "output = tf.keras.layers.Lambda(lambda x: x * 5)(output)\n",
        "\n",
        "model = tf.keras.models.Model(inputs=[user_input,phone_input], outputs=output)\n",
        "user_model = tf.keras.models.Model(inputs=user_input, outputs=normalized_user)\n",
        "phone_model = tf.keras.models.Model(inputs=phone_input, outputs=normalized_phone)"
      ],
      "metadata": {
        "id": "MrovK6eIZz3y"
      },
      "execution_count": null,
      "outputs": []
    },
    {
      "cell_type": "code",
      "source": [
        "model.summary()"
      ],
      "metadata": {
        "colab": {
          "base_uri": "https://localhost:8080/"
        },
        "id": "3wdFrwVVbzGP",
        "outputId": "a1f4be77-dc85-4311-ee58-860150be6ce5"
      },
      "execution_count": null,
      "outputs": [
        {
          "output_type": "stream",
          "name": "stdout",
          "text": [
            "Model: \"model\"\n",
            "__________________________________________________________________________________________________\n",
            " Layer (type)                Output Shape                 Param #   Connected to                  \n",
            "==================================================================================================\n",
            " input_1 (InputLayer)        [(None, 17)]                 0         []                            \n",
            "                                                                                                  \n",
            " input_2 (InputLayer)        [(None, 44)]                 0         []                            \n",
            "                                                                                                  \n",
            " sequential (Sequential)     (None, 32)                   41632     ['input_1[0][0]']             \n",
            "                                                                                                  \n",
            " sequential_1 (Sequential)   (None, 32)                   48544     ['input_2[0][0]']             \n",
            "                                                                                                  \n",
            " tf.math.l2_normalize (TFOp  (None, 32)                   0         ['sequential[0][0]']          \n",
            " Lambda)                                                                                          \n",
            "                                                                                                  \n",
            " tf.math.l2_normalize_1 (TF  (None, 32)                   0         ['sequential_1[0][0]']        \n",
            " OpLambda)                                                                                        \n",
            "                                                                                                  \n",
            " dot (Dot)                   (None, 1)                    0         ['tf.math.l2_normalize[0][0]',\n",
            "                                                                     'tf.math.l2_normalize_1[0][0]\n",
            "                                                                    ']                            \n",
            "                                                                                                  \n",
            " lambda (Lambda)             (None, 1)                    0         ['dot[0][0]']                 \n",
            "                                                                                                  \n",
            "==================================================================================================\n",
            "Total params: 90176 (352.25 KB)\n",
            "Trainable params: 90176 (352.25 KB)\n",
            "Non-trainable params: 0 (0.00 Byte)\n",
            "__________________________________________________________________________________________________\n"
          ]
        }
      ]
    },
    {
      "cell_type": "code",
      "source": [
        "user_model.summary()"
      ],
      "metadata": {
        "colab": {
          "base_uri": "https://localhost:8080/"
        },
        "id": "QVIArzVCETpX",
        "outputId": "d16c2209-94f7-4384-fe0b-9ee154ca1053"
      },
      "execution_count": null,
      "outputs": [
        {
          "output_type": "stream",
          "name": "stdout",
          "text": [
            "Model: \"model_1\"\n",
            "_________________________________________________________________\n",
            " Layer (type)                Output Shape              Param #   \n",
            "=================================================================\n",
            " input_1 (InputLayer)        [(None, 17)]              0         \n",
            "                                                                 \n",
            " sequential (Sequential)     (None, 32)                41632     \n",
            "                                                                 \n",
            " tf.math.l2_normalize (TFOp  (None, 32)                0         \n",
            " Lambda)                                                         \n",
            "                                                                 \n",
            "=================================================================\n",
            "Total params: 41632 (162.62 KB)\n",
            "Trainable params: 41632 (162.62 KB)\n",
            "Non-trainable params: 0 (0.00 Byte)\n",
            "_________________________________________________________________\n"
          ]
        }
      ]
    },
    {
      "cell_type": "code",
      "source": [
        "phone_model.summary()"
      ],
      "metadata": {
        "colab": {
          "base_uri": "https://localhost:8080/"
        },
        "id": "G-IIzqDFEVyj",
        "outputId": "481dbf40-1d88-4462-cfbc-4532222c7963"
      },
      "execution_count": null,
      "outputs": [
        {
          "output_type": "stream",
          "name": "stdout",
          "text": [
            "Model: \"model_2\"\n",
            "_________________________________________________________________\n",
            " Layer (type)                Output Shape              Param #   \n",
            "=================================================================\n",
            " input_2 (InputLayer)        [(None, 44)]              0         \n",
            "                                                                 \n",
            " sequential_1 (Sequential)   (None, 32)                48544     \n",
            "                                                                 \n",
            " tf.math.l2_normalize_1 (TF  (None, 32)                0         \n",
            " OpLambda)                                                       \n",
            "                                                                 \n",
            "=================================================================\n",
            "Total params: 48544 (189.62 KB)\n",
            "Trainable params: 48544 (189.62 KB)\n",
            "Non-trainable params: 0 (0.00 Byte)\n",
            "_________________________________________________________________\n"
          ]
        }
      ]
    },
    {
      "cell_type": "code",
      "source": [
        "model.compile(optimizer=tf.keras.optimizers.Adam(learning_rate=0.01), loss='mse')"
      ],
      "metadata": {
        "id": "LygxlEeIgDOi"
      },
      "execution_count": null,
      "outputs": []
    },
    {
      "cell_type": "markdown",
      "source": [
        "Train the model."
      ],
      "metadata": {
        "id": "0OqDN0qACGWi"
      }
    },
    {
      "cell_type": "code",
      "source": [
        "model.fit([train_user, train_phone], train_rating, epochs=30, validation_data=([val_user, val_phone], val_rating))"
      ],
      "metadata": {
        "colab": {
          "base_uri": "https://localhost:8080/"
        },
        "id": "dV6hmL8aE8KL",
        "outputId": "c75eb3fa-0dc3-4e3c-888d-8ca065db4837"
      },
      "execution_count": null,
      "outputs": [
        {
          "output_type": "stream",
          "name": "stdout",
          "text": [
            "Epoch 1/30\n",
            "128/128 [==============================] - 3s 9ms/step - loss: 0.5049 - val_loss: 0.3358\n",
            "Epoch 2/30\n",
            "128/128 [==============================] - 1s 6ms/step - loss: 0.3161 - val_loss: 0.3334\n",
            "Epoch 3/30\n",
            "128/128 [==============================] - 1s 5ms/step - loss: 0.3032 - val_loss: 0.3375\n",
            "Epoch 4/30\n",
            "128/128 [==============================] - 0s 4ms/step - loss: 0.3049 - val_loss: 0.3324\n",
            "Epoch 5/30\n",
            "128/128 [==============================] - 0s 4ms/step - loss: 0.3040 - val_loss: 0.3368\n",
            "Epoch 6/30\n",
            "128/128 [==============================] - 0s 3ms/step - loss: 0.2944 - val_loss: 0.3105\n",
            "Epoch 7/30\n",
            "128/128 [==============================] - 0s 4ms/step - loss: 0.2984 - val_loss: 0.3160\n",
            "Epoch 8/30\n",
            "128/128 [==============================] - 0s 3ms/step - loss: 0.2978 - val_loss: 0.3136\n",
            "Epoch 9/30\n",
            "128/128 [==============================] - 0s 4ms/step - loss: 0.2976 - val_loss: 0.3178\n",
            "Epoch 10/30\n",
            "128/128 [==============================] - 0s 3ms/step - loss: 0.2914 - val_loss: 0.3115\n",
            "Epoch 11/30\n",
            "128/128 [==============================] - 0s 4ms/step - loss: 0.2907 - val_loss: 0.3103\n",
            "Epoch 12/30\n",
            "128/128 [==============================] - 0s 4ms/step - loss: 0.2921 - val_loss: 0.3117\n",
            "Epoch 13/30\n",
            "128/128 [==============================] - 0s 3ms/step - loss: 0.2912 - val_loss: 0.3192\n",
            "Epoch 14/30\n",
            "128/128 [==============================] - 0s 3ms/step - loss: 0.2856 - val_loss: 0.3095\n",
            "Epoch 15/30\n",
            "128/128 [==============================] - 0s 3ms/step - loss: 0.2911 - val_loss: 0.3107\n",
            "Epoch 16/30\n",
            "128/128 [==============================] - 0s 4ms/step - loss: 0.2851 - val_loss: 0.3090\n",
            "Epoch 17/30\n",
            "128/128 [==============================] - 0s 4ms/step - loss: 0.2856 - val_loss: 0.3316\n",
            "Epoch 18/30\n",
            "128/128 [==============================] - 0s 4ms/step - loss: 0.2856 - val_loss: 0.3088\n",
            "Epoch 19/30\n",
            "128/128 [==============================] - 0s 3ms/step - loss: 0.2830 - val_loss: 0.3321\n",
            "Epoch 20/30\n",
            "128/128 [==============================] - 0s 3ms/step - loss: 0.2871 - val_loss: 0.3186\n",
            "Epoch 21/30\n",
            "128/128 [==============================] - 0s 4ms/step - loss: 0.2809 - val_loss: 0.3155\n",
            "Epoch 22/30\n",
            "128/128 [==============================] - 0s 3ms/step - loss: 0.2828 - val_loss: 0.3048\n",
            "Epoch 23/30\n",
            "128/128 [==============================] - 0s 4ms/step - loss: 0.2821 - val_loss: 0.3094\n",
            "Epoch 24/30\n",
            "128/128 [==============================] - 0s 4ms/step - loss: 0.2795 - val_loss: 0.3155\n",
            "Epoch 25/30\n",
            "128/128 [==============================] - 1s 5ms/step - loss: 0.2816 - val_loss: 0.3122\n",
            "Epoch 26/30\n",
            "128/128 [==============================] - 1s 6ms/step - loss: 0.2796 - val_loss: 0.3097\n",
            "Epoch 27/30\n",
            "128/128 [==============================] - 1s 6ms/step - loss: 0.2781 - val_loss: 0.3228\n",
            "Epoch 28/30\n",
            "128/128 [==============================] - 1s 7ms/step - loss: 0.2818 - val_loss: 0.3154\n",
            "Epoch 29/30\n",
            "128/128 [==============================] - 1s 5ms/step - loss: 0.2805 - val_loss: 0.3182\n",
            "Epoch 30/30\n",
            "128/128 [==============================] - 0s 3ms/step - loss: 0.2735 - val_loss: 0.3087\n"
          ]
        },
        {
          "output_type": "execute_result",
          "data": {
            "text/plain": [
              "<keras.src.callbacks.History at 0x7eb85e4b9ab0>"
            ]
          },
          "metadata": {},
          "execution_count": 29
        }
      ]
    },
    {
      "cell_type": "code",
      "source": [
        "model.evaluate([val_user, val_phone], val_rating)"
      ],
      "metadata": {
        "colab": {
          "base_uri": "https://localhost:8080/"
        },
        "id": "jPUeJ5ILF2v2",
        "outputId": "b95c8cda-c73f-44fb-88d0-c3c0ff0c63b3"
      },
      "execution_count": null,
      "outputs": [
        {
          "output_type": "stream",
          "name": "stdout",
          "text": [
            "43/43 [==============================] - 0s 2ms/step - loss: 0.3087\n"
          ]
        },
        {
          "output_type": "execute_result",
          "data": {
            "text/plain": [
              "0.3087339997291565"
            ]
          },
          "metadata": {},
          "execution_count": 30
        }
      ]
    },
    {
      "cell_type": "markdown",
      "source": [
        "Save model in keras format."
      ],
      "metadata": {
        "id": "oTS5LdUeVo7o"
      }
    },
    {
      "cell_type": "code",
      "source": [
        "model.save('model.keras')"
      ],
      "metadata": {
        "id": "TKTNPtc8t6dr"
      },
      "execution_count": null,
      "outputs": []
    },
    {
      "cell_type": "code",
      "source": [
        "user_model.save('user_model.keras')"
      ],
      "metadata": {
        "id": "nzUas7XBt8Pe"
      },
      "execution_count": null,
      "outputs": []
    },
    {
      "cell_type": "code",
      "source": [
        "phone_model.save('phone_model.keras')"
      ],
      "metadata": {
        "id": "57ppXGoZt_Sx"
      },
      "execution_count": null,
      "outputs": []
    },
    {
      "cell_type": "markdown",
      "source": [
        "Save model in h5 format."
      ],
      "metadata": {
        "id": "9i835AU2Vr33"
      }
    },
    {
      "cell_type": "code",
      "source": [
        "model.save('model.h5')"
      ],
      "metadata": {
        "id": "-EItJ7ELVuTZ"
      },
      "execution_count": null,
      "outputs": []
    },
    {
      "cell_type": "code",
      "source": [
        "user_model.save('user_model.h5')"
      ],
      "metadata": {
        "id": "q0aL6PNwVzX3"
      },
      "execution_count": null,
      "outputs": []
    },
    {
      "cell_type": "code",
      "source": [
        "phone_model.save('phone_model.h5')"
      ],
      "metadata": {
        "id": "8nb_3AsYV177"
      },
      "execution_count": null,
      "outputs": []
    },
    {
      "cell_type": "markdown",
      "source": [
        "Predict rating."
      ],
      "metadata": {
        "id": "Kr1ZtpMKG4ZG"
      }
    },
    {
      "cell_type": "code",
      "source": [
        "model.predict([tf.convert_to_tensor([user_data[0]]), tf.convert_to_tensor([phone_data[0]])])"
      ],
      "metadata": {
        "id": "CvkJw0OGWVMT",
        "colab": {
          "base_uri": "https://localhost:8080/"
        },
        "outputId": "ae21b0b0-d545-4409-a2aa-0528294b5322"
      },
      "execution_count": null,
      "outputs": [
        {
          "output_type": "stream",
          "name": "stdout",
          "text": [
            "1/1 [==============================] - 0s 226ms/step\n"
          ]
        },
        {
          "output_type": "execute_result",
          "data": {
            "text/plain": [
              "array([[4.228704]], dtype=float32)"
            ]
          },
          "metadata": {},
          "execution_count": 29
        }
      ]
    },
    {
      "cell_type": "code",
      "source": [
        "rating_data[0]"
      ],
      "metadata": {
        "id": "C8jvb62qbLU6",
        "colab": {
          "base_uri": "https://localhost:8080/"
        },
        "outputId": "a0243eff-2b81-4f19-d4bc-cee1300d2ab9"
      },
      "execution_count": null,
      "outputs": [
        {
          "output_type": "execute_result",
          "data": {
            "text/plain": [
              "3.0"
            ]
          },
          "metadata": {},
          "execution_count": 30
        }
      ]
    },
    {
      "cell_type": "code",
      "source": [
        "user_data[0]"
      ],
      "metadata": {
        "colab": {
          "base_uri": "https://localhost:8080/"
        },
        "id": "exCugB8cFKZ0",
        "outputId": "9bba2576-fd3a-4c35-fe00-a31adaf7abd6"
      },
      "execution_count": null,
      "outputs": [
        {
          "output_type": "execute_result",
          "data": {
            "text/plain": [
              "<tf.Tensor: shape=(17,), dtype=float32, numpy=\n",
              "array([4., 5., 5., 4., 5., 5., 0., 0., 0., 1., 0., 0., 0., 0., 0., 0., 0.],\n",
              "      dtype=float32)>"
            ]
          },
          "metadata": {},
          "execution_count": 31
        }
      ]
    },
    {
      "cell_type": "markdown",
      "source": [
        "Predict rating by dot product of user vector and phone vector."
      ],
      "metadata": {
        "id": "zdWu8hyLG72u"
      }
    },
    {
      "cell_type": "code",
      "source": [
        "user_vector_pred = user_model.predict(tf.expand_dims(user_data[0], 0))\n",
        "phone_vector_pred = phone_model.predict(tf.expand_dims(phone_data[0], 0))\n",
        "tf.tensordot(user_vector_pred, phone_vector_pred, axes=(1,1)) * 5"
      ],
      "metadata": {
        "colab": {
          "base_uri": "https://localhost:8080/"
        },
        "id": "fUjGXo5OEtbW",
        "outputId": "046b94ca-74f1-4751-99d3-cc4e62da113b"
      },
      "execution_count": null,
      "outputs": [
        {
          "output_type": "stream",
          "name": "stdout",
          "text": [
            "1/1 [==============================] - 0s 89ms/step\n",
            "1/1 [==============================] - 0s 67ms/step\n"
          ]
        },
        {
          "output_type": "execute_result",
          "data": {
            "text/plain": [
              "<tf.Tensor: shape=(1, 1), dtype=float32, numpy=array([[4.228704]], dtype=float32)>"
            ]
          },
          "metadata": {},
          "execution_count": 32
        }
      ]
    },
    {
      "cell_type": "markdown",
      "source": [
        "Preprocess data into input compatible with the model."
      ],
      "metadata": {
        "id": "Q0wa7icqCLuB"
      }
    },
    {
      "cell_type": "code",
      "source": [
        "def preprocess_user(x):\n",
        "  one_hot = x[-1]\n",
        "  one_hot = tf.one_hot(brand_choice_list.index(one_hot), len(brand_choice_list))\n",
        "  x = tf.cast(tf.convert_to_tensor(x[:-1]), tf.float32)\n",
        "  return tf.expand_dims(tf.concat([x, one_hot], 0), 0)"
      ],
      "metadata": {
        "id": "JWgNH5qmYGmV"
      },
      "execution_count": null,
      "outputs": []
    },
    {
      "cell_type": "code",
      "source": [
        "#  Oppo, Asus, Infinix, Samsung, Vivo, Huawei, Apple, Realme, Xiaomi, Poco, lainnya/tidak ada"
      ],
      "metadata": {
        "id": "BPGbzzDlVWQD"
      },
      "execution_count": null,
      "outputs": []
    },
    {
      "cell_type": "code",
      "source": [
        "a = [5,5,5,5,5,5,'Apple'] # performance, camera, battery, software, RAM, storage, favorite brand\n",
        "preprocessed_output = preprocess_user(a)"
      ],
      "metadata": {
        "id": "-14XAy6QpTPH"
      },
      "execution_count": null,
      "outputs": []
    },
    {
      "cell_type": "markdown",
      "source": [
        "Create a user vector."
      ],
      "metadata": {
        "id": "8qxp2EGxhV2i"
      }
    },
    {
      "cell_type": "code",
      "source": [
        "u_vector = user_model.predict(preprocessed_output)"
      ],
      "metadata": {
        "colab": {
          "base_uri": "https://localhost:8080/"
        },
        "id": "sqSrA6rEHeIZ",
        "outputId": "9ed6a50e-81de-4b7f-84e5-8d1023aab65a"
      },
      "execution_count": null,
      "outputs": [
        {
          "output_type": "stream",
          "name": "stdout",
          "text": [
            "1/1 [==============================] - 0s 22ms/step\n"
          ]
        }
      ]
    },
    {
      "cell_type": "code",
      "source": [
        "u_vector.shape"
      ],
      "metadata": {
        "colab": {
          "base_uri": "https://localhost:8080/"
        },
        "id": "HOq7XIrAisYg",
        "outputId": "da3c0630-5922-4958-e086-ab448fafee9c"
      },
      "execution_count": null,
      "outputs": [
        {
          "output_type": "execute_result",
          "data": {
            "text/plain": [
              "(1, 32)"
            ]
          },
          "metadata": {},
          "execution_count": 37
        }
      ]
    },
    {
      "cell_type": "markdown",
      "source": [
        "Create phone vectors."
      ],
      "metadata": {
        "id": "N-YZKO9UhaBi"
      }
    },
    {
      "cell_type": "code",
      "source": [
        "p_vector = phone_model.predict(phone)"
      ],
      "metadata": {
        "colab": {
          "base_uri": "https://localhost:8080/"
        },
        "id": "Cyrlpez5gTCX",
        "outputId": "792bc863-1660-4d86-876a-5d1f9ed7b958"
      },
      "execution_count": null,
      "outputs": [
        {
          "output_type": "stream",
          "name": "stdout",
          "text": [
            "3/3 [==============================] - 0s 5ms/step\n"
          ]
        }
      ]
    },
    {
      "cell_type": "code",
      "source": [
        "p_vector.shape"
      ],
      "metadata": {
        "colab": {
          "base_uri": "https://localhost:8080/"
        },
        "id": "c76BOS4Miu4Z",
        "outputId": "2717e223-7c1a-4b51-cc21-e265aba3cdca"
      },
      "execution_count": null,
      "outputs": [
        {
          "output_type": "execute_result",
          "data": {
            "text/plain": [
              "(96, 32)"
            ]
          },
          "metadata": {},
          "execution_count": 39
        }
      ]
    },
    {
      "cell_type": "markdown",
      "source": [
        "Save phone vectors into csv file."
      ],
      "metadata": {
        "id": "Ih7Ro5TdoUOv"
      }
    },
    {
      "cell_type": "code",
      "source": [
        "with open('phone_vector.csv', 'w') as file:\n",
        "  csvwriter = csv.writer(file)\n",
        "  csvwriter.writerows(p_vector)"
      ],
      "metadata": {
        "id": "vU1gsGvFoAoP"
      },
      "execution_count": null,
      "outputs": []
    },
    {
      "cell_type": "markdown",
      "source": [
        "Predict phone ratings for a user."
      ],
      "metadata": {
        "id": "uVXbM6oChem3"
      }
    },
    {
      "cell_type": "code",
      "source": [
        "rating_pred_list = []\n",
        "for p in p_vector:\n",
        "  rating_pred_list.append(tf.tensordot(u_vector, tf.expand_dims(p, 0), axes=(1,1)) * 5)"
      ],
      "metadata": {
        "id": "bmy4BANth4C5"
      },
      "execution_count": null,
      "outputs": []
    },
    {
      "cell_type": "markdown",
      "source": [
        "Get phone name."
      ],
      "metadata": {
        "id": "6AhyBP7Fr8NL"
      }
    },
    {
      "cell_type": "code",
      "source": [
        "phone_pred_list = phone_dict['phone_name']"
      ],
      "metadata": {
        "id": "nlc4souOinUD"
      },
      "execution_count": null,
      "outputs": []
    },
    {
      "cell_type": "markdown",
      "source": [
        "Sort ratings to get top 10 recommended phones for a user."
      ],
      "metadata": {
        "id": "L_PQ9x62r-ti"
      }
    },
    {
      "cell_type": "code",
      "source": [
        "top_10_phone = list(zip(rating_pred_list, phone_pred_list))\n",
        "top_10_phone.sort(reverse=True)\n",
        "rating_pred_list, phone_pred_list = zip(*top_10_phone)\n",
        "rating_pred_list, phone_pred_list = list(rating_pred_list), list(phone_pred_list)"
      ],
      "metadata": {
        "id": "dhuJ5_dtrJUq"
      },
      "execution_count": null,
      "outputs": []
    },
    {
      "cell_type": "markdown",
      "source": [
        "Print out top 10 recommended phones."
      ],
      "metadata": {
        "id": "JBWy8kyVsHI7"
      }
    },
    {
      "cell_type": "code",
      "source": [
        "top_10_list = []\n",
        "for i in range(10):\n",
        "  top_10_list.append(phone_pred_list[i])\n",
        "  print(i+1, phone_pred_list[i], rating_pred_list[i].numpy())"
      ],
      "metadata": {
        "colab": {
          "base_uri": "https://localhost:8080/"
        },
        "id": "VDeR4FHdkPqv",
        "outputId": "a4e9b7ef-0a22-44f7-af01-be0d2203b2bd"
      },
      "execution_count": null,
      "outputs": [
        {
          "output_type": "stream",
          "name": "stdout",
          "text": [
            "1 iPhone 15 Plus [[4.4538746]]\n",
            "2 iPhone 15 [[4.453345]]\n",
            "3 iPhone 13 [[4.451524]]\n",
            "4 iPhone 14 Plus [[4.4514613]]\n",
            "5 Infinix GT 20 Pro [[4.447506]]\n",
            "6 Samsung Galaxy S24 Ultra [[4.438769]]\n",
            "7 Samsung Galaxy A35 [[4.433384]]\n",
            "8 Samsung Galaxy S24 [[4.4322104]]\n",
            "9 iPhone 15 Pro Max [[4.4306607]]\n",
            "10 iPhone 14 Pro Max [[4.4306607]]\n"
          ]
        }
      ]
    },
    {
      "cell_type": "code",
      "source": [
        "top_10_list"
      ],
      "metadata": {
        "colab": {
          "base_uri": "https://localhost:8080/"
        },
        "id": "NfBCbAr9sT_3",
        "outputId": "430cab27-cd1b-43e3-de5e-92d82bc68634"
      },
      "execution_count": null,
      "outputs": [
        {
          "output_type": "execute_result",
          "data": {
            "text/plain": [
              "['iPhone 15 Plus',\n",
              " 'iPhone 15',\n",
              " 'iPhone 13',\n",
              " 'iPhone 14 Plus',\n",
              " 'Infinix GT 20 Pro',\n",
              " 'Samsung Galaxy S24 Ultra',\n",
              " 'Samsung Galaxy A35',\n",
              " 'Samsung Galaxy S24',\n",
              " 'iPhone 15 Pro Max',\n",
              " 'iPhone 14 Pro Max']"
            ]
          },
          "metadata": {},
          "execution_count": 45
        }
      ]
    },
    {
      "cell_type": "markdown",
      "source": [
        "Calculate square distance between phone vectors to get related phones."
      ],
      "metadata": {
        "id": "lQnmFRssnwqw"
      }
    },
    {
      "cell_type": "code",
      "source": [
        "top_distance = []\n",
        "top_distance_name = []\n",
        "for i,x in enumerate(p_vector):\n",
        "  all_distance = []\n",
        "  phone_pred_list = phone_dict['phone_name']\n",
        "  for j,y in enumerate(p_vector):\n",
        "    if tf.math.reduce_all(tf.math.equal(x,y)):\n",
        "      continue\n",
        "    else:\n",
        "      all_distance.append(tf.math.reduce_sum(tf.math.square(x-y)))\n",
        "  phone_pred_list = phone_pred_list[:i] + phone_pred_list[i+1:]\n",
        "  combined_dist = list(zip(all_distance, phone_pred_list))\n",
        "  combined_dist.sort()\n",
        "  all_distance, phone_pred_list = zip(*combined_dist)\n",
        "  all_distance, phone_pred_list = list(all_distance), list(phone_pred_list)\n",
        "  top_distance.append(all_distance[:10])\n",
        "  top_distance_name.append(phone_pred_list[:10])"
      ],
      "metadata": {
        "id": "np6DW5xTXyN9"
      },
      "execution_count": null,
      "outputs": []
    },
    {
      "cell_type": "code",
      "source": [
        "top_distance[0]"
      ],
      "metadata": {
        "colab": {
          "base_uri": "https://localhost:8080/"
        },
        "collapsed": true,
        "id": "SxIsbIR4f6cb",
        "outputId": "0d792f78-845d-47f3-9513-9ada152b39b5"
      },
      "execution_count": null,
      "outputs": [
        {
          "output_type": "execute_result",
          "data": {
            "text/plain": [
              "[<tf.Tensor: shape=(), dtype=float32, numpy=2.7269867e-05>,\n",
              " <tf.Tensor: shape=(), dtype=float32, numpy=0.00020949422>,\n",
              " <tf.Tensor: shape=(), dtype=float32, numpy=0.00036774497>,\n",
              " <tf.Tensor: shape=(), dtype=float32, numpy=0.0004645838>,\n",
              " <tf.Tensor: shape=(), dtype=float32, numpy=0.0005682481>,\n",
              " <tf.Tensor: shape=(), dtype=float32, numpy=0.00060009747>,\n",
              " <tf.Tensor: shape=(), dtype=float32, numpy=0.00067274587>,\n",
              " <tf.Tensor: shape=(), dtype=float32, numpy=0.0008121567>,\n",
              " <tf.Tensor: shape=(), dtype=float32, numpy=0.0008850064>,\n",
              " <tf.Tensor: shape=(), dtype=float32, numpy=0.0009351555>]"
            ]
          },
          "metadata": {},
          "execution_count": 47
        }
      ]
    },
    {
      "cell_type": "code",
      "source": [
        "top_distance_name[0]"
      ],
      "metadata": {
        "colab": {
          "base_uri": "https://localhost:8080/"
        },
        "collapsed": true,
        "id": "piWnZLtLh1sE",
        "outputId": "5693f9d4-75e1-4810-ad3a-e8424fd50a84"
      },
      "execution_count": null,
      "outputs": [
        {
          "output_type": "execute_result",
          "data": {
            "text/plain": [
              "['Huawei Pura 70',\n",
              " 'Vivo Y100',\n",
              " 'Oppo Reno 11F',\n",
              " 'Vivo V30e',\n",
              " 'Oppo A60',\n",
              " 'Asus Zenfone 10',\n",
              " 'Vivo V29e',\n",
              " 'Vivo V30',\n",
              " 'Realme 12+ 5G',\n",
              " 'Oppo Reno 10 Pro']"
            ]
          },
          "metadata": {},
          "execution_count": 48
        }
      ]
    },
    {
      "cell_type": "markdown",
      "source": [
        "Save related phones data into csv file."
      ],
      "metadata": {
        "id": "12ITF96zn32J"
      }
    },
    {
      "cell_type": "code",
      "source": [
        "with open('related_phone.csv', 'w') as file:\n",
        "  csvwriter = csv.writer(file)\n",
        "  csvwriter.writerow(['phone_name', 'related1', 'related2', 'related3', 'related4', 'related5', 'related6', 'related7', 'related8', 'related9', 'related10'])\n",
        "  for i in range(96):\n",
        "    csvwriter.writerow([phone_dict['phone_name'][i], top_distance_name[i][0], top_distance_name[i][1], top_distance_name[i][2], top_distance_name[i][3], top_distance_name[i][4], top_distance_name[i][5], top_distance_name[i][6], top_distance_name[i][7], top_distance_name[i][8], top_distance_name[i][9]])"
      ],
      "metadata": {
        "id": "dOhZAaG9lZt4"
      },
      "execution_count": null,
      "outputs": []
    }
  ]
}