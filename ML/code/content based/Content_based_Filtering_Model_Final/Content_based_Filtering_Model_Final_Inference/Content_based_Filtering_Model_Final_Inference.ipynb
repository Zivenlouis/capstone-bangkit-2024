{
  "nbformat": 4,
  "nbformat_minor": 0,
  "metadata": {
    "colab": {
      "provenance": []
    },
    "kernelspec": {
      "name": "python3",
      "display_name": "Python 3"
    },
    "language_info": {
      "name": "python"
    }
  },
  "cells": [
    {
      "cell_type": "markdown",
      "source": [
        "# Content-based Filtering Model Inference"
      ],
      "metadata": {
        "id": "UeNSMsRMjT6o"
      }
    },
    {
      "cell_type": "code",
      "execution_count": 1,
      "metadata": {
        "id": "oEJcLrTmbJS2"
      },
      "outputs": [],
      "source": [
        "import csv\n",
        "import pandas as pd\n",
        "import tensorflow as tf"
      ]
    },
    {
      "cell_type": "code",
      "source": [
        "brand_choice_list = ['Oppo', 'Asus', 'Infinix', 'Samsung', 'Vivo', 'Huawei', 'Apple', 'Realme', 'Xiaomi', 'Poco', 'lainnya/tidak ada']"
      ],
      "metadata": {
        "id": "7rxeyDPicVl2"
      },
      "execution_count": 2,
      "outputs": []
    },
    {
      "cell_type": "code",
      "source": [
        "user_model = tf.keras.models.load_model('user_model.keras')"
      ],
      "metadata": {
        "id": "U2o3DeAgbO3v"
      },
      "execution_count": 3,
      "outputs": []
    },
    {
      "cell_type": "markdown",
      "source": [
        "Preprocess data into input compatible with the model."
      ],
      "metadata": {
        "id": "dPtkWsIZjOFC"
      }
    },
    {
      "cell_type": "code",
      "source": [
        "def preprocess_user(x):\n",
        "  one_hot = x[-1]\n",
        "  one_hot = tf.one_hot(brand_choice_list.index(one_hot), len(brand_choice_list))\n",
        "  x = tf.cast(tf.convert_to_tensor(x[:-1]), tf.float32)\n",
        "  return tf.expand_dims(tf.concat([x, one_hot], 0), 0)"
      ],
      "metadata": {
        "id": "yDzWqHvWcJlB"
      },
      "execution_count": 4,
      "outputs": []
    },
    {
      "cell_type": "code",
      "source": [
        "a = [5,5,5,5,5,5,'Apple'] # performance, camera, battery, software, RAM, storage, favorite brand\n",
        "preprocessed_output = preprocess_user(a)"
      ],
      "metadata": {
        "id": "dwfuM2WOcLJT"
      },
      "execution_count": 5,
      "outputs": []
    },
    {
      "cell_type": "code",
      "source": [
        "u_vector = user_model.predict(preprocessed_output)"
      ],
      "metadata": {
        "colab": {
          "base_uri": "https://localhost:8080/"
        },
        "id": "uAQ0qejFcNjx",
        "outputId": "b845afad-b590-431f-ef6e-69115b1e314a"
      },
      "execution_count": 6,
      "outputs": [
        {
          "output_type": "stream",
          "name": "stdout",
          "text": [
            "1/1 [==============================] - 0s 143ms/step\n"
          ]
        }
      ]
    },
    {
      "cell_type": "code",
      "source": [
        "p_vector = pd.read_csv('phone_vector.csv', header=None)"
      ],
      "metadata": {
        "id": "-IqWG8ZCcP7r"
      },
      "execution_count": 7,
      "outputs": []
    },
    {
      "cell_type": "code",
      "source": [
        "p_vector = tf.convert_to_tensor(p_vector)\n",
        "p_vector = tf.cast(p_vector, tf.float32)"
      ],
      "metadata": {
        "id": "_qVPBvxQdxSd"
      },
      "execution_count": 8,
      "outputs": []
    },
    {
      "cell_type": "markdown",
      "source": [
        "Predict phone ratings for a user."
      ],
      "metadata": {
        "id": "_Cy3rAf4lHIA"
      }
    },
    {
      "cell_type": "code",
      "source": [
        "tf.tensordot(u_vector, p_vector, axes=(1,1)) * 5"
      ],
      "metadata": {
        "colab": {
          "base_uri": "https://localhost:8080/"
        },
        "id": "lTdM6hXNgXdZ",
        "outputId": "d33a1bd0-898f-4340-c6c9-644bd2649e84"
      },
      "execution_count": 9,
      "outputs": [
        {
          "output_type": "execute_result",
          "data": {
            "text/plain": [
              "<tf.Tensor: shape=(1, 96), dtype=float32, numpy=\n",
              "array([[4.1724195, 4.173358 , 4.067517 , 4.1683087, 4.053091 , 4.2440376,\n",
              "        4.2785506, 4.3623433, 4.071537 , 3.9885628, 4.3750887, 4.0470743,\n",
              "        3.9292228, 3.9391234, 3.852385 , 4.3369503, 4.0721397, 4.340616 ,\n",
              "        4.3350215, 3.9016051, 4.031767 , 4.237111 , 4.130212 , 4.0591235,\n",
              "        4.0229473, 4.072178 , 4.171513 , 4.1101274, 4.1462283, 4.1123266,\n",
              "        4.409349 , 4.389525 , 4.416095 , 4.4271855, 4.3020277, 4.1115675,\n",
              "        4.060865 , 4.101839 , 4.1523294, 4.175838 , 3.9868023, 4.0394287,\n",
              "        4.340296 , 3.842646 , 3.9561892, 3.9123821, 3.751477 , 4.0252056,\n",
              "        3.786425 , 3.930696 , 4.3380375, 4.265899 , 4.304504 , 3.904066 ,\n",
              "        3.9667754, 4.2945714, 4.2981772, 4.041826 , 3.9962647, 3.9836729,\n",
              "        3.7505097, 4.1413608, 3.6951737, 3.9945638, 4.140338 , 4.428541 ,\n",
              "        4.428343 , 4.111965 , 4.1107254, 4.428527 , 4.428324 , 3.9347343,\n",
              "        3.931728 , 3.9260297, 3.9245448, 3.8975825, 3.9268193, 4.0224843,\n",
              "        4.183618 , 4.0306168, 4.0474873, 4.0456614, 4.3461733, 4.2795916,\n",
              "        4.020153 , 4.047472 , 4.0450797, 3.9804375, 3.9341388, 3.7685914,\n",
              "        3.711659 , 3.7945275, 4.12211  , 4.300733 , 4.1255417, 4.135157 ]],\n",
              "      dtype=float32)>"
            ]
          },
          "metadata": {},
          "execution_count": 9
        }
      ]
    },
    {
      "cell_type": "code",
      "source": [
        "rating_pred_list = []\n",
        "for p in p_vector:\n",
        "  rating_pred_list.append(tf.tensordot(u_vector, tf.expand_dims(p, 0), axes=(1,1)) * 5)"
      ],
      "metadata": {
        "id": "41k86Kqndw0C"
      },
      "execution_count": 10,
      "outputs": []
    },
    {
      "cell_type": "markdown",
      "source": [
        "Get phone name."
      ],
      "metadata": {
        "id": "ZVFh8vAVlLT4"
      }
    },
    {
      "cell_type": "code",
      "source": [
        "phone_pred_list = pd.read_csv('phone_dataset.csv')"
      ],
      "metadata": {
        "id": "tvkiGvlLiPgN"
      },
      "execution_count": 11,
      "outputs": []
    },
    {
      "cell_type": "code",
      "source": [
        "phone_pred_list = phone_pred_list['name'].tolist()"
      ],
      "metadata": {
        "id": "QGEfJRJxiXqM"
      },
      "execution_count": 12,
      "outputs": []
    },
    {
      "cell_type": "markdown",
      "source": [
        "Sort ratings to get top 10 recommended phones for a user."
      ],
      "metadata": {
        "id": "Ek0uAV6LlPId"
      }
    },
    {
      "cell_type": "code",
      "source": [
        "top_10_phone = list(zip(rating_pred_list, phone_pred_list))\n",
        "top_10_phone.sort(reverse=True)\n",
        "rating_pred_list, phone_pred_list = zip(*top_10_phone)\n",
        "rating_pred_list, phone_pred_list = list(rating_pred_list), list(phone_pred_list)"
      ],
      "metadata": {
        "id": "zGrXbKQhhmzP"
      },
      "execution_count": 13,
      "outputs": []
    },
    {
      "cell_type": "code",
      "source": [
        "top_10_list = []\n",
        "for i in range(10):\n",
        "  top_10_list.append(phone_pred_list[i])\n",
        "  print(i+1, phone_pred_list[i], rating_pred_list[i].numpy())"
      ],
      "metadata": {
        "colab": {
          "base_uri": "https://localhost:8080/"
        },
        "id": "3Rxaql6Xhq2l",
        "outputId": "111bef96-0fbe-443e-c2f8-e8129dac8a95"
      },
      "execution_count": 14,
      "outputs": [
        {
          "output_type": "stream",
          "name": "stdout",
          "text": [
            "1 iPhone 14 Pro [[4.428541]]\n",
            "2 iPhone 15 Pro [[4.428527]]\n",
            "3 iPhone 14 Pro Max [[4.428343]]\n",
            "4 iPhone 15 Pro Max [[4.428324]]\n",
            "5 Samsung Galaxy Z Fold5 [[4.4271855]]\n",
            "6 Samsung Galaxy S24 [[4.416095]]\n",
            "7 Samsung Galaxy S24 Ultra [[4.409349]]\n",
            "8 Samsung Galaxy S24+ [[4.389525]]\n",
            "9 Oppo Find N3 [[4.3750887]]\n",
            "10 Oppo Find X7 [[4.3623433]]\n"
          ]
        }
      ]
    },
    {
      "cell_type": "code",
      "source": [
        "top_10_list"
      ],
      "metadata": {
        "colab": {
          "base_uri": "https://localhost:8080/"
        },
        "id": "m2CNqsk0htx4",
        "outputId": "a1ff3755-1dfa-4f49-d476-675ab32d1d8d"
      },
      "execution_count": 15,
      "outputs": [
        {
          "output_type": "execute_result",
          "data": {
            "text/plain": [
              "['iPhone 14 Pro',\n",
              " 'iPhone 15 Pro',\n",
              " 'iPhone 14 Pro Max',\n",
              " 'iPhone 15 Pro Max',\n",
              " 'Samsung Galaxy Z Fold5',\n",
              " 'Samsung Galaxy S24',\n",
              " 'Samsung Galaxy S24 Ultra',\n",
              " 'Samsung Galaxy S24+',\n",
              " 'Oppo Find N3',\n",
              " 'Oppo Find X7']"
            ]
          },
          "metadata": {},
          "execution_count": 15
        }
      ]
    }
  ]
}