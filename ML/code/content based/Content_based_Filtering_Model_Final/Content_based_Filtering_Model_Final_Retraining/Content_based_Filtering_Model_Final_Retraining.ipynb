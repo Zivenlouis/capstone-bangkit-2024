{
  "nbformat": 4,
  "nbformat_minor": 0,
  "metadata": {
    "colab": {
      "provenance": []
    },
    "kernelspec": {
      "name": "python3",
      "display_name": "Python 3"
    },
    "language_info": {
      "name": "python"
    }
  },
  "cells": [
    {
      "cell_type": "markdown",
      "source": [
        "# Content-based Filtering Model Final"
      ],
      "metadata": {
        "id": "3zcaCg9Q-dlP"
      }
    },
    {
      "cell_type": "code",
      "execution_count": 1,
      "metadata": {
        "id": "lTSivqgt1Rfh"
      },
      "outputs": [],
      "source": [
        "import csv\n",
        "import random\n",
        "import tensorflow as tf"
      ]
    },
    {
      "cell_type": "markdown",
      "source": [
        "Create a list of brand choice for one hot encoding."
      ],
      "metadata": {
        "id": "ibsRfIGuAwug"
      }
    },
    {
      "cell_type": "code",
      "source": [
        "user_dict = {}\n",
        "brand_choice_list = ['Oppo', 'Asus', 'Infinix', 'Samsung', 'Vivo', 'Huawei', 'Apple', 'Realme', 'Xiaomi', 'Poco', 'lainnya/tidak ada']"
      ],
      "metadata": {
        "id": "VXZwCmzc4YfB"
      },
      "execution_count": 2,
      "outputs": []
    },
    {
      "cell_type": "markdown",
      "source": [
        "Create user_list"
      ],
      "metadata": {
        "id": "DY7OPIt0VCBr"
      }
    },
    {
      "cell_type": "code",
      "source": [
        "user_row = 1507\n",
        "user_column = 7\n",
        "user_list = [[0 for _ in range(user_column)] for _ in range(user_row)]"
      ],
      "metadata": {
        "id": "LS01TBFPVjrc"
      },
      "execution_count": 3,
      "outputs": []
    },
    {
      "cell_type": "markdown",
      "source": [
        "Access user dataset from csv file."
      ],
      "metadata": {
        "id": "phxDic6Z-rbj"
      }
    },
    {
      "cell_type": "code",
      "source": [
        "with open('user_surveys.csv', 'r') as file:\n",
        "  user_dict['user'] = []\n",
        "  user_dict['user_fav'] = []\n",
        "  user_index = []\n",
        "  csvFile = csv.reader(file)\n",
        "  next(csvFile)\n",
        "  for line in csvFile:\n",
        "    user_index.append(int(line[0])-1)\n",
        "    user_dict[f'user'].append([int(line[1]), int(line[2]), int(line[3]), int(line[4]), int(line[5]), int(line[6])])\n",
        "    user_dict[f'user_fav'].append(int(line[8]))"
      ],
      "metadata": {
        "id": "bkCkzwffEpBb"
      },
      "execution_count": 4,
      "outputs": []
    },
    {
      "cell_type": "markdown",
      "source": [
        "Convert user features to tensors and one hot encode one of user features, and then concatenate them."
      ],
      "metadata": {
        "id": "leXTOXiZ-ykH"
      }
    },
    {
      "cell_type": "code",
      "source": [
        "user_feature1_6 = tf.cast(tf.convert_to_tensor(user_dict['user']), tf.float32)\n",
        "user_feature7 = tf.one_hot(user_dict['user_fav'], len(brand_choice_list))\n",
        "user = tf.concat([user_feature1_6, user_feature7], 1)"
      ],
      "metadata": {
        "id": "SYybH4qnE__V"
      },
      "execution_count": 5,
      "outputs": []
    },
    {
      "cell_type": "markdown",
      "source": [
        "User features are performance, camera, battery, software, RAM, storage, and favorite brand."
      ],
      "metadata": {
        "id": "tTBfDEmPAjk9"
      }
    },
    {
      "cell_type": "code",
      "source": [
        "user[0]"
      ],
      "metadata": {
        "id": "84AknkZKWLed",
        "colab": {
          "base_uri": "https://localhost:8080/"
        },
        "outputId": "12e69133-7520-4da5-e31b-4199e28d46a6"
      },
      "execution_count": 6,
      "outputs": [
        {
          "output_type": "execute_result",
          "data": {
            "text/plain": [
              "<tf.Tensor: shape=(17,), dtype=float32, numpy=\n",
              "array([3., 5., 3., 1., 3., 1., 0., 0., 0., 0., 0., 0., 1., 0., 0., 0., 0.],\n",
              "      dtype=float32)>"
            ]
          },
          "metadata": {},
          "execution_count": 6
        }
      ]
    },
    {
      "cell_type": "markdown",
      "source": [
        "Create a brand list and os list for one hot encoding."
      ],
      "metadata": {
        "id": "2QCM4HGmA5fJ"
      }
    },
    {
      "cell_type": "code",
      "source": [
        "phone_dict = {}\n",
        "brand_list = ['Oppo', 'Asus', 'Infinix', 'Samsung', 'Vivo', 'Huawei', 'Apple', 'Realme', 'Xiaomi', 'Poco']\n",
        "os_list = ['iOS', 'EMUI', 'Android']\n",
        "chipset_list = ['unisoc', 'helio','dimensity_6', 'dimensity_7', 'dimensity_8', 'dimensity_9', 'snapdragon_6', 'snapdragon_7', 'snapdragon_8', 'exynos_1', 'exynos_2', 'kirin', 'apple']\n",
        "price_list = ['_2', '2_3', '3_4', '4_6', '6_8', '8_10', '10_']"
      ],
      "metadata": {
        "id": "Ox68dlOJ41TB"
      },
      "execution_count": 7,
      "outputs": []
    },
    {
      "cell_type": "markdown",
      "source": [
        "Access phone dataset from csv file.<br>\n",
        "Preprocess the data,  one hot encode some of the features, normalize some of the features.<br>\n",
        "Then concatenate all the phone data."
      ],
      "metadata": {
        "id": "DKj3MQpG_Dka"
      }
    },
    {
      "cell_type": "code",
      "source": [
        "with open('phone_dataset.csv', 'r') as file:\n",
        "  phone_dict = {'phone_brand': [], 'phone_name': [], 'phone_weight': [], 'phone_os': [], 'phone_chipset': [], 'phone_memory': [], 'phone_ram': [], 'phone_camera': [], 'phone_audio_jack': [], 'phone_battery': [], 'phone_charging': [], 'phone_nfc': [], 'phone_price': []}\n",
        "  csvFile = csv.reader(file)\n",
        "  next(csvFile)\n",
        "  for i,line in enumerate(csvFile):\n",
        "    phone_dict['phone_brand'].append(brand_list.index(line[1]))\n",
        "    phone_dict['phone_name'].append(line[2])\n",
        "    phone_dict['phone_weight'].append(float(line[6]))\n",
        "    phone_dict['phone_os'].append(os_list.index('iOS' if line[7].startswith('iOS') else 'EMUI' if line[7].startswith('EMUI') else 'Android'))\n",
        "    phone_dict['phone_chipset'].append(chipset_list.index('unisoc' if 'unisoc' in line[8].lower()\n",
        "                                                          else 'helio' if 'helio' in line[8].lower()\n",
        "                                                          else 'dimensity_6' if 'dimensity 6' in line[8].lower()\n",
        "                                                          else 'dimensity_7' if 'dimensity 7' in line[8].lower()\n",
        "                                                          else 'dimensity_8' if 'dimensity 8' in line[8].lower()\n",
        "                                                          else 'dimensity_9' if 'dimensity 9' in line[8].lower()\n",
        "                                                          else 'snapdragon_6' if 'snapdragon 6' in line[8].lower()\n",
        "                                                          else 'snapdragon_7' if 'snapdragon 7' in line[8].lower()\n",
        "                                                          else 'snapdragon_8' if 'snapdragon 8' in line[8].lower()\n",
        "                                                          else 'exynos_1' if 'exynos 1' in line[8].lower()\n",
        "                                                          else 'exynos_2' if 'exynos 2' in line[8].lower()\n",
        "                                                          else 'kirin' if 'kirin' in line[8].lower()\n",
        "                                                          else 'apple' if 'apple' in line[8].lower() else ''))\n",
        "    phone_dict['phone_memory'].append(float(line[9]))\n",
        "    phone_dict['phone_ram'].append(float(line[10]))\n",
        "    phone_dict['phone_camera'].append([float(line[11]), float(line[12]), float(line[13]), float(line[14])])\n",
        "    phone_dict['phone_audio_jack'].append(1.0 if line[15] == 'TRUE' else 0.0)\n",
        "    phone_dict['phone_battery'].append(float(line[16]))\n",
        "    phone_dict['phone_charging'].append(float(line[17]))\n",
        "    phone_dict['phone_nfc'].append(1.0 if line[19] == 'TRUE' else 0.0)\n",
        "    phone_dict['phone_price'].append(price_list.index('_2' if int(line[20]) < 2000000\n",
        "                                                      else '2_3' if int(line[20]) < 3000000\n",
        "                                                      else '3_4' if int(line[20]) < 4000000\n",
        "                                                      else '4_6' if int(line[20]) < 6000000\n",
        "                                                      else '6_8' if int(line[20]) < 8000000\n",
        "                                                      else '8_10' if int(line[20]) < 10000000\n",
        "                                                      else '10_'))"
      ],
      "metadata": {
        "id": "RnsoSCDw4396"
      },
      "execution_count": 8,
      "outputs": []
    },
    {
      "cell_type": "code",
      "source": [
        "phone_brand = tf.one_hot(phone_dict['phone_brand'], len(brand_list))\n",
        "phone_weight = tf.expand_dims(tf.convert_to_tensor(phone_dict['phone_weight']) / max(phone_dict['phone_weight']), 1)\n",
        "phone_os = tf.one_hot(phone_dict['phone_os'], len(os_list))\n",
        "phone_chipset = tf.one_hot(phone_dict['phone_chipset'], len(chipset_list))\n",
        "phone_memory = tf.expand_dims(tf.convert_to_tensor(phone_dict['phone_memory']), 1)  / max(phone_dict['phone_memory'])\n",
        "phone_ram = tf.expand_dims(tf.convert_to_tensor(phone_dict['phone_ram']), 1) / max(phone_dict['phone_ram'])\n",
        "phone_camera = tf.convert_to_tensor(phone_dict['phone_camera'])\n",
        "phone_audio_jack = tf.expand_dims(tf.convert_to_tensor(phone_dict['phone_audio_jack']), 1)\n",
        "phone_battery = tf.expand_dims(tf.convert_to_tensor(phone_dict['phone_battery']), 1) / max(phone_dict['phone_battery'])\n",
        "phone_charging = tf.expand_dims(tf.convert_to_tensor(phone_dict['phone_charging']), 1)\n",
        "phone_nfc = tf.expand_dims(tf.convert_to_tensor(phone_dict['phone_nfc']), 1)\n",
        "phone_price = tf.one_hot(phone_dict['phone_price'], len(price_list))"
      ],
      "metadata": {
        "id": "cPVRIyYSaiwT"
      },
      "execution_count": 9,
      "outputs": []
    },
    {
      "cell_type": "code",
      "source": [
        "phone = tf.concat([phone_brand, phone_weight, phone_os, phone_chipset, phone_memory, phone_ram, phone_camera, phone_audio_jack, phone_battery, phone_charging, phone_nfc, phone_price], 1)"
      ],
      "metadata": {
        "id": "UWIiW1Gpa6Ga"
      },
      "execution_count": 10,
      "outputs": []
    },
    {
      "cell_type": "markdown",
      "source": [
        "Phone features are brand, weight, os, chipset, memory, RAM, camera 1, camera 2, camera 3, selfie camera, audio jack, battery, charging, nfc, and price."
      ],
      "metadata": {
        "id": "-5XpbFOqBaVR"
      }
    },
    {
      "cell_type": "code",
      "source": [
        "phone[0]"
      ],
      "metadata": {
        "id": "ZRLElV0-XBfZ",
        "collapsed": true,
        "colab": {
          "base_uri": "https://localhost:8080/"
        },
        "outputId": "d1ba0aee-86e5-4f0e-c472-61bf8066a071"
      },
      "execution_count": 11,
      "outputs": [
        {
          "output_type": "execute_result",
          "data": {
            "text/plain": [
              "<tf.Tensor: shape=(44,), dtype=float32, numpy=\n",
              "array([ 1.        ,  0.        ,  0.        ,  0.        ,  0.        ,\n",
              "        0.        ,  0.        ,  0.        ,  0.        ,  0.        ,\n",
              "        0.33643124,  0.        ,  0.        ,  1.        ,  0.        ,\n",
              "        0.        ,  0.        ,  0.        ,  1.        ,  0.        ,\n",
              "        0.        ,  0.        ,  0.        ,  0.        ,  0.        ,\n",
              "        0.        ,  0.        ,  0.5       ,  0.5       , 50.        ,\n",
              "       32.        ,  8.        , 32.        ,  0.        ,  0.575     ,\n",
              "       80.        ,  0.        ,  0.        ,  0.        ,  0.        ,\n",
              "        0.        ,  0.        ,  1.        ,  0.        ], dtype=float32)>"
            ]
          },
          "metadata": {},
          "execution_count": 11
        }
      ]
    },
    {
      "cell_type": "markdown",
      "source": [
        "Create a rating dictionary and a rating list."
      ],
      "metadata": {
        "id": "nbb9mEGHBvxJ"
      }
    },
    {
      "cell_type": "code",
      "source": [
        "rating_dict = {}"
      ],
      "metadata": {
        "id": "I3KdE-uH3UD_"
      },
      "execution_count": 12,
      "outputs": []
    },
    {
      "cell_type": "code",
      "source": [
        "rating = [[0.0 for _ in range(1507)] for _ in range(96)]"
      ],
      "metadata": {
        "id": "ob1FJCnES5wm"
      },
      "execution_count": 13,
      "outputs": []
    },
    {
      "cell_type": "code",
      "source": [
        "rating[0][0]"
      ],
      "metadata": {
        "id": "jkqpXN8NTj1W",
        "colab": {
          "base_uri": "https://localhost:8080/"
        },
        "outputId": "68894f5e-0e0b-4dde-8015-8647a1c28edd"
      },
      "execution_count": 14,
      "outputs": [
        {
          "output_type": "execute_result",
          "data": {
            "text/plain": [
              "0.0"
            ]
          },
          "metadata": {},
          "execution_count": 14
        }
      ]
    },
    {
      "cell_type": "markdown",
      "source": [
        "Access rating dataset from csv file and only save the ratings from the users with information."
      ],
      "metadata": {
        "id": "OW-5ovGS_iUi"
      }
    },
    {
      "cell_type": "code",
      "source": [
        "with open('user_ratings.csv', 'r') as file:\n",
        "  csvFile = csv.reader(file)\n",
        "  next(csvFile)\n",
        "  for line in csvFile:\n",
        "    if (int(line[0])-1) in user_index and line[2]:\n",
        "      rating[int(line[1])-1][int(line[0])-1] = float(line[2])"
      ],
      "metadata": {
        "id": "K5lHmRCKpVkD"
      },
      "execution_count": 15,
      "outputs": []
    },
    {
      "cell_type": "code",
      "source": [
        "print(rating[17][500])\n",
        "print(rating[4][1])\n",
        "print(rating[9][0])"
      ],
      "metadata": {
        "id": "KmpFxMaiTOvZ",
        "colab": {
          "base_uri": "https://localhost:8080/"
        },
        "outputId": "1fb084b4-4c8d-4c0f-a657-b81f10042908"
      },
      "execution_count": 16,
      "outputs": [
        {
          "output_type": "stream",
          "name": "stdout",
          "text": [
            "4.0\n",
            "0.0\n",
            "0.0\n"
          ]
        }
      ]
    },
    {
      "cell_type": "code",
      "source": [
        "phone_data = []\n",
        "user_data = []\n",
        "rating_data = []"
      ],
      "metadata": {
        "id": "GZICugZmZ1LZ"
      },
      "execution_count": 17,
      "outputs": []
    },
    {
      "cell_type": "markdown",
      "source": [
        "Save the phone data and user data for training only for the rated phone."
      ],
      "metadata": {
        "id": "xQfUoDL8_u5g"
      }
    },
    {
      "cell_type": "code",
      "source": [
        "for i,p in enumerate(phone):\n",
        "  for j,u in zip(user_index, user):\n",
        "    if rating[i][j] > 0:\n",
        "      phone_data.append(phone[i])\n",
        "      user_data.append(user[user_index.index(j)])\n",
        "      rating_data.append(rating[i][j])"
      ],
      "metadata": {
        "id": "GnqkHGMUZdPH"
      },
      "execution_count": 18,
      "outputs": []
    },
    {
      "cell_type": "code",
      "source": [
        "len(phone_data)"
      ],
      "metadata": {
        "id": "9wIOEBr6e7Y0",
        "colab": {
          "base_uri": "https://localhost:8080/"
        },
        "outputId": "3d24b9e5-a3f6-486b-cda6-d51b1b475a05"
      },
      "execution_count": 19,
      "outputs": [
        {
          "output_type": "execute_result",
          "data": {
            "text/plain": [
              "5439"
            ]
          },
          "metadata": {},
          "execution_count": 19
        }
      ]
    },
    {
      "cell_type": "markdown",
      "source": [
        "Convert phone data, user data, and rating data to tensors and shuffle them."
      ],
      "metadata": {
        "id": "YdSyeVwv_6Ww"
      }
    },
    {
      "cell_type": "code",
      "source": [
        "combined_dataset = list(zip(phone_data, user_data, rating_data))\n",
        "random.shuffle(combined_dataset)\n",
        "phone_dataset, user_dataset, rating_dataset = zip(*combined_dataset)\n",
        "phone_dataset, user_dataset, rating_dataset = list(phone_dataset), list(user_dataset), list(rating_dataset)"
      ],
      "metadata": {
        "id": "3hz-cjs3Wnhh"
      },
      "execution_count": 20,
      "outputs": []
    },
    {
      "cell_type": "code",
      "source": [
        "phone_dataset = tf.convert_to_tensor(phone_dataset)\n",
        "user_dataset = tf.convert_to_tensor(user_dataset)\n",
        "rating_dataset = tf.convert_to_tensor(rating_dataset)"
      ],
      "metadata": {
        "id": "gItbxK_bUtN_"
      },
      "execution_count": 21,
      "outputs": []
    },
    {
      "cell_type": "markdown",
      "source": [
        "Distribute data into training and validation set."
      ],
      "metadata": {
        "id": "13oapBBQYcll"
      }
    },
    {
      "cell_type": "code",
      "source": [
        "train_phone = phone_dataset[int(len(phone_dataset)/4):]\n",
        "train_user = user_dataset[int(len(user_dataset)/4):]\n",
        "train_rating = rating_dataset[int(len(rating_dataset)/4):]"
      ],
      "metadata": {
        "id": "PB0Er2q8EJ7F"
      },
      "execution_count": 22,
      "outputs": []
    },
    {
      "cell_type": "code",
      "source": [
        "val_phone = phone_dataset[:int(len(phone_dataset)/4)]\n",
        "val_user = user_dataset[:int(len(user_dataset)/4)]\n",
        "val_rating = rating_dataset[:int(len(rating_dataset)/4)]"
      ],
      "metadata": {
        "id": "7oobNSXrEsgl"
      },
      "execution_count": 23,
      "outputs": []
    },
    {
      "cell_type": "markdown",
      "source": [
        "Create a model with two inputs for user data and phone data, the output is the dot product of the two vectors from user_NN and phone_NN which is the predicted rating."
      ],
      "metadata": {
        "id": "K5UOjcVdADo4"
      }
    },
    {
      "cell_type": "code",
      "source": [
        "model = tf.keras.models.load_model('model.keras', safe_mode=False)"
      ],
      "metadata": {
        "id": "1afbiKQ70ZUh"
      },
      "execution_count": 24,
      "outputs": []
    },
    {
      "cell_type": "code",
      "source": [
        "model.summary()"
      ],
      "metadata": {
        "colab": {
          "base_uri": "https://localhost:8080/"
        },
        "id": "V9JnNh0g0gSP",
        "outputId": "bf4356c9-3df6-4e84-c623-0032dc2a17a1"
      },
      "execution_count": 25,
      "outputs": [
        {
          "output_type": "stream",
          "name": "stdout",
          "text": [
            "Model: \"model\"\n",
            "__________________________________________________________________________________________________\n",
            " Layer (type)                Output Shape                 Param #   Connected to                  \n",
            "==================================================================================================\n",
            " input_1 (InputLayer)        [(None, 17)]                 0         []                            \n",
            "                                                                                                  \n",
            " input_2 (InputLayer)        [(None, 44)]                 0         []                            \n",
            "                                                                                                  \n",
            " sequential (Sequential)     (None, 32)                   41632     ['input_1[0][0]']             \n",
            "                                                                                                  \n",
            " sequential_1 (Sequential)   (None, 32)                   48544     ['input_2[0][0]']             \n",
            "                                                                                                  \n",
            " tf.math.l2_normalize (TFOp  (None, 32)                   0         ['sequential[0][0]']          \n",
            " Lambda)                                                                                          \n",
            "                                                                                                  \n",
            " tf.math.l2_normalize_1 (TF  (None, 32)                   0         ['sequential_1[0][0]']        \n",
            " OpLambda)                                                                                        \n",
            "                                                                                                  \n",
            " dot (Dot)                   (None, 1)                    0         ['tf.math.l2_normalize[0][0]',\n",
            "                                                                     'tf.math.l2_normalize_1[0][0]\n",
            "                                                                    ']                            \n",
            "                                                                                                  \n",
            " lambda (Lambda)             (None, 1)                    0         ['dot[0][0]']                 \n",
            "                                                                                                  \n",
            "==================================================================================================\n",
            "Total params: 90176 (352.25 KB)\n",
            "Trainable params: 90176 (352.25 KB)\n",
            "Non-trainable params: 0 (0.00 Byte)\n",
            "__________________________________________________________________________________________________\n"
          ]
        }
      ]
    },
    {
      "cell_type": "code",
      "source": [
        "user_model = tf.keras.models.Model(inputs=model.layers[0].input, outputs=model.layers[4].output)"
      ],
      "metadata": {
        "id": "WldNMmfA0lOe"
      },
      "execution_count": 26,
      "outputs": []
    },
    {
      "cell_type": "code",
      "source": [
        "user_model.summary()"
      ],
      "metadata": {
        "colab": {
          "base_uri": "https://localhost:8080/"
        },
        "id": "QVIArzVCETpX",
        "outputId": "3bbeaf57-b4ea-4fa4-ec2f-3c6cedcb5006"
      },
      "execution_count": 27,
      "outputs": [
        {
          "output_type": "stream",
          "name": "stdout",
          "text": [
            "Model: \"model\"\n",
            "_________________________________________________________________\n",
            " Layer (type)                Output Shape              Param #   \n",
            "=================================================================\n",
            " input_1 (InputLayer)        [(None, 17)]              0         \n",
            "                                                                 \n",
            " sequential (Sequential)     (None, 32)                41632     \n",
            "                                                                 \n",
            " tf.math.l2_normalize (TFOp  (None, 32)                0         \n",
            " Lambda)                                                         \n",
            "                                                                 \n",
            "=================================================================\n",
            "Total params: 41632 (162.62 KB)\n",
            "Trainable params: 41632 (162.62 KB)\n",
            "Non-trainable params: 0 (0.00 Byte)\n",
            "_________________________________________________________________\n"
          ]
        }
      ]
    },
    {
      "cell_type": "code",
      "source": [
        "phone_model = tf.keras.models.Model(inputs=model.layers[1].input, outputs=model.layers[5].output)"
      ],
      "metadata": {
        "id": "SPIFZpAD0yDk"
      },
      "execution_count": 28,
      "outputs": []
    },
    {
      "cell_type": "code",
      "source": [
        "phone_model.summary()"
      ],
      "metadata": {
        "colab": {
          "base_uri": "https://localhost:8080/"
        },
        "id": "G-IIzqDFEVyj",
        "outputId": "30b57909-4545-4578-c537-ca916e18b14e"
      },
      "execution_count": 29,
      "outputs": [
        {
          "output_type": "stream",
          "name": "stdout",
          "text": [
            "Model: \"model_1\"\n",
            "_________________________________________________________________\n",
            " Layer (type)                Output Shape              Param #   \n",
            "=================================================================\n",
            " input_2 (InputLayer)        [(None, 44)]              0         \n",
            "                                                                 \n",
            " sequential_1 (Sequential)   (None, 32)                48544     \n",
            "                                                                 \n",
            " tf.math.l2_normalize_1 (TF  (None, 32)                0         \n",
            " OpLambda)                                                       \n",
            "                                                                 \n",
            "=================================================================\n",
            "Total params: 48544 (189.62 KB)\n",
            "Trainable params: 48544 (189.62 KB)\n",
            "Non-trainable params: 0 (0.00 Byte)\n",
            "_________________________________________________________________\n"
          ]
        }
      ]
    },
    {
      "cell_type": "code",
      "source": [
        "model.compile(optimizer=tf.keras.optimizers.Adam(learning_rate=0.01), loss='mse')"
      ],
      "metadata": {
        "id": "LygxlEeIgDOi"
      },
      "execution_count": 30,
      "outputs": []
    },
    {
      "cell_type": "markdown",
      "source": [
        "Train the model."
      ],
      "metadata": {
        "id": "0OqDN0qACGWi"
      }
    },
    {
      "cell_type": "code",
      "source": [
        "model.fit([train_user, train_phone], train_rating, epochs=30, validation_data=([val_user, val_phone], val_rating))"
      ],
      "metadata": {
        "colab": {
          "base_uri": "https://localhost:8080/"
        },
        "id": "dV6hmL8aE8KL",
        "outputId": "592e8079-4936-42b6-856b-928654a64fe2"
      },
      "execution_count": 31,
      "outputs": [
        {
          "output_type": "stream",
          "name": "stdout",
          "text": [
            "Epoch 1/30\n",
            "128/128 [==============================] - 2s 5ms/step - loss: 0.2888 - val_loss: 0.3012\n",
            "Epoch 2/30\n",
            "128/128 [==============================] - 0s 4ms/step - loss: 0.2878 - val_loss: 0.3026\n",
            "Epoch 3/30\n",
            "128/128 [==============================] - 0s 4ms/step - loss: 0.2840 - val_loss: 0.3040\n",
            "Epoch 4/30\n",
            "128/128 [==============================] - 0s 3ms/step - loss: 0.2847 - val_loss: 0.3057\n",
            "Epoch 5/30\n",
            "128/128 [==============================] - 0s 4ms/step - loss: 0.2803 - val_loss: 0.3034\n",
            "Epoch 6/30\n",
            "128/128 [==============================] - 0s 4ms/step - loss: 0.2825 - val_loss: 0.3003\n",
            "Epoch 7/30\n",
            "128/128 [==============================] - 1s 4ms/step - loss: 0.2800 - val_loss: 0.3063\n",
            "Epoch 8/30\n",
            "128/128 [==============================] - 1s 4ms/step - loss: 0.2790 - val_loss: 0.3051\n",
            "Epoch 9/30\n",
            "128/128 [==============================] - 1s 4ms/step - loss: 0.2783 - val_loss: 0.3082\n",
            "Epoch 10/30\n",
            "128/128 [==============================] - 1s 4ms/step - loss: 0.2782 - val_loss: 0.3148\n",
            "Epoch 11/30\n",
            "128/128 [==============================] - 0s 4ms/step - loss: 0.2768 - val_loss: 0.3044\n",
            "Epoch 12/30\n",
            "128/128 [==============================] - 0s 4ms/step - loss: 0.2762 - val_loss: 0.3080\n",
            "Epoch 13/30\n",
            "128/128 [==============================] - 1s 4ms/step - loss: 0.2767 - val_loss: 0.3041\n",
            "Epoch 14/30\n",
            "128/128 [==============================] - 1s 4ms/step - loss: 0.2745 - val_loss: 0.3012\n",
            "Epoch 15/30\n",
            "128/128 [==============================] - 0s 4ms/step - loss: 0.2712 - val_loss: 0.3151\n",
            "Epoch 16/30\n",
            "128/128 [==============================] - 1s 4ms/step - loss: 0.2731 - val_loss: 0.3130\n",
            "Epoch 17/30\n",
            "128/128 [==============================] - 1s 4ms/step - loss: 0.2733 - val_loss: 0.3041\n",
            "Epoch 18/30\n",
            "128/128 [==============================] - 0s 4ms/step - loss: 0.2723 - val_loss: 0.3098\n",
            "Epoch 19/30\n",
            "128/128 [==============================] - 1s 4ms/step - loss: 0.2732 - val_loss: 0.3118\n",
            "Epoch 20/30\n",
            "128/128 [==============================] - 1s 5ms/step - loss: 0.2721 - val_loss: 0.3049\n",
            "Epoch 21/30\n",
            "128/128 [==============================] - 1s 6ms/step - loss: 0.2689 - val_loss: 0.3043\n",
            "Epoch 22/30\n",
            "128/128 [==============================] - 1s 6ms/step - loss: 0.2708 - val_loss: 0.3041\n",
            "Epoch 23/30\n",
            "128/128 [==============================] - 1s 6ms/step - loss: 0.2646 - val_loss: 0.3068\n",
            "Epoch 24/30\n",
            "128/128 [==============================] - 1s 6ms/step - loss: 0.2674 - val_loss: 0.3160\n",
            "Epoch 25/30\n",
            "128/128 [==============================] - 0s 4ms/step - loss: 0.2662 - val_loss: 0.3126\n",
            "Epoch 26/30\n",
            "128/128 [==============================] - 0s 4ms/step - loss: 0.2648 - val_loss: 0.3047\n",
            "Epoch 27/30\n",
            "128/128 [==============================] - 0s 4ms/step - loss: 0.2632 - val_loss: 0.3158\n",
            "Epoch 28/30\n",
            "128/128 [==============================] - 0s 4ms/step - loss: 0.2666 - val_loss: 0.3089\n",
            "Epoch 29/30\n",
            "128/128 [==============================] - 0s 4ms/step - loss: 0.2609 - val_loss: 0.3108\n",
            "Epoch 30/30\n",
            "128/128 [==============================] - 0s 3ms/step - loss: 0.2627 - val_loss: 0.3128\n"
          ]
        },
        {
          "output_type": "execute_result",
          "data": {
            "text/plain": [
              "<keras.src.callbacks.History at 0x7a977118fa00>"
            ]
          },
          "metadata": {},
          "execution_count": 31
        }
      ]
    },
    {
      "cell_type": "code",
      "source": [
        "model.evaluate([val_user, val_phone], val_rating)"
      ],
      "metadata": {
        "colab": {
          "base_uri": "https://localhost:8080/"
        },
        "id": "jPUeJ5ILF2v2",
        "outputId": "688a303e-98ed-446e-c5ee-b29603e8453b"
      },
      "execution_count": 32,
      "outputs": [
        {
          "output_type": "stream",
          "name": "stdout",
          "text": [
            "43/43 [==============================] - 0s 2ms/step - loss: 0.3128\n"
          ]
        },
        {
          "output_type": "execute_result",
          "data": {
            "text/plain": [
              "0.31282979249954224"
            ]
          },
          "metadata": {},
          "execution_count": 32
        }
      ]
    },
    {
      "cell_type": "code",
      "source": [
        "model.save('model.keras')"
      ],
      "metadata": {
        "id": "TKTNPtc8t6dr"
      },
      "execution_count": 33,
      "outputs": []
    },
    {
      "cell_type": "code",
      "source": [
        "user_model.save('user_model.keras')"
      ],
      "metadata": {
        "id": "nzUas7XBt8Pe"
      },
      "execution_count": 34,
      "outputs": []
    },
    {
      "cell_type": "code",
      "source": [
        "phone_model.save('phone_model.keras')"
      ],
      "metadata": {
        "id": "57ppXGoZt_Sx"
      },
      "execution_count": 35,
      "outputs": []
    },
    {
      "cell_type": "markdown",
      "source": [
        "Predict rating."
      ],
      "metadata": {
        "id": "Kr1ZtpMKG4ZG"
      }
    },
    {
      "cell_type": "code",
      "source": [
        "model.predict([tf.convert_to_tensor([user_data[0]]), tf.convert_to_tensor([phone_data[0]])])"
      ],
      "metadata": {
        "id": "CvkJw0OGWVMT",
        "colab": {
          "base_uri": "https://localhost:8080/"
        },
        "outputId": "6e166376-d8b4-4088-b362-dd94752aab99"
      },
      "execution_count": 36,
      "outputs": [
        {
          "output_type": "stream",
          "name": "stdout",
          "text": [
            "1/1 [==============================] - 0s 141ms/step\n"
          ]
        },
        {
          "output_type": "execute_result",
          "data": {
            "text/plain": [
              "array([[4.4593673]], dtype=float32)"
            ]
          },
          "metadata": {},
          "execution_count": 36
        }
      ]
    },
    {
      "cell_type": "code",
      "source": [
        "rating_data[0]"
      ],
      "metadata": {
        "id": "C8jvb62qbLU6",
        "colab": {
          "base_uri": "https://localhost:8080/"
        },
        "outputId": "7503c88f-c076-4e29-d0e0-7e78cc5a837d"
      },
      "execution_count": 37,
      "outputs": [
        {
          "output_type": "execute_result",
          "data": {
            "text/plain": [
              "3.0"
            ]
          },
          "metadata": {},
          "execution_count": 37
        }
      ]
    },
    {
      "cell_type": "code",
      "source": [
        "user_data[0]"
      ],
      "metadata": {
        "colab": {
          "base_uri": "https://localhost:8080/"
        },
        "id": "exCugB8cFKZ0",
        "outputId": "42446945-8475-49a3-a447-db9ec7ef5bd1"
      },
      "execution_count": 38,
      "outputs": [
        {
          "output_type": "execute_result",
          "data": {
            "text/plain": [
              "<tf.Tensor: shape=(17,), dtype=float32, numpy=\n",
              "array([4., 5., 5., 4., 5., 5., 0., 0., 0., 1., 0., 0., 0., 0., 0., 0., 0.],\n",
              "      dtype=float32)>"
            ]
          },
          "metadata": {},
          "execution_count": 38
        }
      ]
    },
    {
      "cell_type": "markdown",
      "source": [
        "Predict rating by dot product of user vector and phone vector."
      ],
      "metadata": {
        "id": "zdWu8hyLG72u"
      }
    },
    {
      "cell_type": "code",
      "source": [
        "user_vector_pred = user_model.predict(tf.expand_dims(user_data[0], 0))\n",
        "phone_vector_pred = phone_model.predict(tf.expand_dims(phone_data[0], 0))\n",
        "tf.tensordot(user_vector_pred, phone_vector_pred, axes=(1,1)) * 5"
      ],
      "metadata": {
        "colab": {
          "base_uri": "https://localhost:8080/"
        },
        "id": "fUjGXo5OEtbW",
        "outputId": "414735f2-3d00-4d97-82d2-1f2b311e17ee"
      },
      "execution_count": 39,
      "outputs": [
        {
          "output_type": "stream",
          "name": "stdout",
          "text": [
            "1/1 [==============================] - 0s 63ms/step\n",
            "1/1 [==============================] - 0s 61ms/step\n"
          ]
        },
        {
          "output_type": "execute_result",
          "data": {
            "text/plain": [
              "<tf.Tensor: shape=(1, 1), dtype=float32, numpy=array([[4.4593673]], dtype=float32)>"
            ]
          },
          "metadata": {},
          "execution_count": 39
        }
      ]
    },
    {
      "cell_type": "markdown",
      "source": [
        "Create phone vectors."
      ],
      "metadata": {
        "id": "N-YZKO9UhaBi"
      }
    },
    {
      "cell_type": "code",
      "source": [
        "p_vector = phone_model.predict(phone)"
      ],
      "metadata": {
        "colab": {
          "base_uri": "https://localhost:8080/"
        },
        "id": "Cyrlpez5gTCX",
        "outputId": "72addaf2-66c5-485c-a26d-68d8288eb186"
      },
      "execution_count": 40,
      "outputs": [
        {
          "output_type": "stream",
          "name": "stdout",
          "text": [
            "3/3 [==============================] - 0s 4ms/step\n"
          ]
        }
      ]
    },
    {
      "cell_type": "code",
      "source": [
        "p_vector.shape"
      ],
      "metadata": {
        "colab": {
          "base_uri": "https://localhost:8080/"
        },
        "id": "c76BOS4Miu4Z",
        "outputId": "5d9053a0-0e41-450e-c334-5c1bf0de1502"
      },
      "execution_count": 41,
      "outputs": [
        {
          "output_type": "execute_result",
          "data": {
            "text/plain": [
              "(96, 32)"
            ]
          },
          "metadata": {},
          "execution_count": 41
        }
      ]
    },
    {
      "cell_type": "markdown",
      "source": [
        "Save phone vectors into csv file."
      ],
      "metadata": {
        "id": "Ih7Ro5TdoUOv"
      }
    },
    {
      "cell_type": "code",
      "source": [
        "with open('phone_vector.csv', 'w') as file:\n",
        "  csvwriter = csv.writer(file)\n",
        "  csvwriter.writerows(p_vector)"
      ],
      "metadata": {
        "id": "vU1gsGvFoAoP"
      },
      "execution_count": 42,
      "outputs": []
    },
    {
      "cell_type": "markdown",
      "source": [
        "Calculate square distance between phone vectors to get related phones."
      ],
      "metadata": {
        "id": "lQnmFRssnwqw"
      }
    },
    {
      "cell_type": "code",
      "source": [
        "top_distance = []\n",
        "top_distance_name = []\n",
        "for i,x in enumerate(p_vector):\n",
        "  all_distance = []\n",
        "  phone_pred_list = phone_dict['phone_name']\n",
        "  for j,y in enumerate(p_vector):\n",
        "    if tf.math.reduce_all(tf.math.equal(x,y)):\n",
        "      continue\n",
        "    else:\n",
        "      all_distance.append(tf.math.reduce_sum(tf.math.square(x-y)))\n",
        "  phone_pred_list = phone_pred_list[:i] + phone_pred_list[i+1:]\n",
        "  combined_dist = list(zip(all_distance, phone_pred_list))\n",
        "  combined_dist.sort()\n",
        "  all_distance, phone_pred_list = zip(*combined_dist)\n",
        "  all_distance, phone_pred_list = list(all_distance), list(phone_pred_list)\n",
        "  top_distance.append(all_distance[:10])\n",
        "  top_distance_name.append(phone_pred_list[:10])"
      ],
      "metadata": {
        "id": "np6DW5xTXyN9"
      },
      "execution_count": 43,
      "outputs": []
    },
    {
      "cell_type": "code",
      "source": [
        "top_distance[0]"
      ],
      "metadata": {
        "colab": {
          "base_uri": "https://localhost:8080/"
        },
        "collapsed": true,
        "id": "SxIsbIR4f6cb",
        "outputId": "d273ecae-d0fe-4a22-ef88-c9c4471b440a"
      },
      "execution_count": 44,
      "outputs": [
        {
          "output_type": "execute_result",
          "data": {
            "text/plain": [
              "[<tf.Tensor: shape=(), dtype=float32, numpy=0.0029129717>,\n",
              " <tf.Tensor: shape=(), dtype=float32, numpy=0.003740506>,\n",
              " <tf.Tensor: shape=(), dtype=float32, numpy=0.0051871985>,\n",
              " <tf.Tensor: shape=(), dtype=float32, numpy=0.0060669724>,\n",
              " <tf.Tensor: shape=(), dtype=float32, numpy=0.00616429>,\n",
              " <tf.Tensor: shape=(), dtype=float32, numpy=0.0064714>,\n",
              " <tf.Tensor: shape=(), dtype=float32, numpy=0.0079600755>,\n",
              " <tf.Tensor: shape=(), dtype=float32, numpy=0.008121572>,\n",
              " <tf.Tensor: shape=(), dtype=float32, numpy=0.00984684>,\n",
              " <tf.Tensor: shape=(), dtype=float32, numpy=0.010031451>]"
            ]
          },
          "metadata": {},
          "execution_count": 44
        }
      ]
    },
    {
      "cell_type": "code",
      "source": [
        "top_distance_name[0]"
      ],
      "metadata": {
        "colab": {
          "base_uri": "https://localhost:8080/"
        },
        "collapsed": true,
        "id": "piWnZLtLh1sE",
        "outputId": "2b143b35-8d0a-4033-d4e2-1c0cc874385d"
      },
      "execution_count": 45,
      "outputs": [
        {
          "output_type": "execute_result",
          "data": {
            "text/plain": [
              "['Huawei Nova 11 Pro',\n",
              " 'Oppo Reno 11',\n",
              " 'Realme Note 50',\n",
              " 'Huawei Nova 11',\n",
              " 'Oppo A98 5G',\n",
              " 'Vivo V29',\n",
              " 'Oppo Reno 10 Pro',\n",
              " 'Infinix Hot 40i',\n",
              " 'Huawei Nova 12s',\n",
              " 'Oppo A18']"
            ]
          },
          "metadata": {},
          "execution_count": 45
        }
      ]
    },
    {
      "cell_type": "markdown",
      "source": [
        "Save related phones data into csv file."
      ],
      "metadata": {
        "id": "12ITF96zn32J"
      }
    },
    {
      "cell_type": "code",
      "source": [
        "with open('related_phone.csv', 'w') as file:\n",
        "  csvwriter = csv.writer(file)\n",
        "  csvwriter.writerow(['phone_name', 'related1', 'related2', 'related3', 'related4', 'related5', 'related6', 'related7', 'related8', 'related9', 'related10'])\n",
        "  for i in range(96):\n",
        "    csvwriter.writerow([phone_dict['phone_name'][i], top_distance_name[i][0], top_distance_name[i][1], top_distance_name[i][2], top_distance_name[i][3], top_distance_name[i][4], top_distance_name[i][5], top_distance_name[i][6], top_distance_name[i][7], top_distance_name[i][8], top_distance_name[i][9]])"
      ],
      "metadata": {
        "id": "dOhZAaG9lZt4"
      },
      "execution_count": 46,
      "outputs": []
    }
  ]
}