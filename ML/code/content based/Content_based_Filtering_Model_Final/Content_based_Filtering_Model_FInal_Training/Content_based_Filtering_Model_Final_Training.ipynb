{
  "nbformat": 4,
  "nbformat_minor": 0,
  "metadata": {
    "colab": {
      "provenance": []
    },
    "kernelspec": {
      "name": "python3",
      "display_name": "Python 3"
    },
    "language_info": {
      "name": "python"
    }
  },
  "cells": [
    {
      "cell_type": "markdown",
      "source": [
        "# Content-based Filtering Model Final"
      ],
      "metadata": {
        "id": "3zcaCg9Q-dlP"
      }
    },
    {
      "cell_type": "code",
      "execution_count": 1,
      "metadata": {
        "id": "lTSivqgt1Rfh"
      },
      "outputs": [],
      "source": [
        "import csv\n",
        "import random\n",
        "import tensorflow as tf"
      ]
    },
    {
      "cell_type": "markdown",
      "source": [
        "Create a list of brand choice for one hot encoding."
      ],
      "metadata": {
        "id": "ibsRfIGuAwug"
      }
    },
    {
      "cell_type": "code",
      "source": [
        "user_dict = {}\n",
        "brand_choice_list = ['Oppo', 'Asus', 'Infinix', 'Samsung', 'Vivo', 'Huawei', 'Apple', 'Realme', 'Xiaomi', 'Poco', 'lainnya/tidak ada']"
      ],
      "metadata": {
        "id": "VXZwCmzc4YfB"
      },
      "execution_count": 2,
      "outputs": []
    },
    {
      "cell_type": "markdown",
      "source": [
        "Create user_list"
      ],
      "metadata": {
        "id": "DY7OPIt0VCBr"
      }
    },
    {
      "cell_type": "code",
      "source": [
        "user_row = 1507\n",
        "user_column = 7\n",
        "user_list = [[0 for _ in range(user_column)] for _ in range(user_row)]"
      ],
      "metadata": {
        "id": "LS01TBFPVjrc"
      },
      "execution_count": 3,
      "outputs": []
    },
    {
      "cell_type": "markdown",
      "source": [
        "Access user dataset from csv file."
      ],
      "metadata": {
        "id": "phxDic6Z-rbj"
      }
    },
    {
      "cell_type": "code",
      "source": [
        "with open('user_surveys.csv', 'r') as file:\n",
        "  user_dict['user'] = []\n",
        "  user_dict['user_fav'] = []\n",
        "  user_index = []\n",
        "  csvFile = csv.reader(file)\n",
        "  next(csvFile)\n",
        "  for line in csvFile:\n",
        "    user_index.append(int(line[0])-1)\n",
        "    user_dict[f'user'].append([int(line[1]), int(line[2]), int(line[3]), int(line[4]), int(line[5]), int(line[6])])\n",
        "    user_dict[f'user_fav'].append(int(line[8]))"
      ],
      "metadata": {
        "id": "bkCkzwffEpBb"
      },
      "execution_count": 4,
      "outputs": []
    },
    {
      "cell_type": "markdown",
      "source": [
        "Convert user features to tensors and one hot encode one of user features, and then concatenate them."
      ],
      "metadata": {
        "id": "leXTOXiZ-ykH"
      }
    },
    {
      "cell_type": "code",
      "source": [
        "user_feature1_6 = tf.cast(tf.convert_to_tensor(user_dict['user']), tf.float32)\n",
        "user_feature7 = tf.one_hot(user_dict['user_fav'], len(brand_choice_list))\n",
        "user = tf.concat([user_feature1_6, user_feature7], 1)"
      ],
      "metadata": {
        "id": "SYybH4qnE__V"
      },
      "execution_count": 5,
      "outputs": []
    },
    {
      "cell_type": "markdown",
      "source": [
        "User features are performance, camera, battery, software, RAM, storage, and favorite brand."
      ],
      "metadata": {
        "id": "tTBfDEmPAjk9"
      }
    },
    {
      "cell_type": "code",
      "source": [
        "user[0]"
      ],
      "metadata": {
        "id": "84AknkZKWLed",
        "colab": {
          "base_uri": "https://localhost:8080/"
        },
        "outputId": "8a02092f-c4bc-4f90-9f7a-79e9c4060243"
      },
      "execution_count": 6,
      "outputs": [
        {
          "output_type": "execute_result",
          "data": {
            "text/plain": [
              "<tf.Tensor: shape=(17,), dtype=float32, numpy=\n",
              "array([3., 5., 3., 1., 3., 1., 0., 0., 0., 0., 0., 0., 1., 0., 0., 0., 0.],\n",
              "      dtype=float32)>"
            ]
          },
          "metadata": {},
          "execution_count": 6
        }
      ]
    },
    {
      "cell_type": "markdown",
      "source": [
        "Create a brand list and os list for one hot encoding."
      ],
      "metadata": {
        "id": "2QCM4HGmA5fJ"
      }
    },
    {
      "cell_type": "code",
      "source": [
        "phone_dict = {}\n",
        "brand_list = ['Oppo', 'Asus', 'Infinix', 'Samsung', 'Vivo', 'Huawei', 'Apple', 'Realme', 'Xiaomi', 'Poco']\n",
        "os_list = ['iOS', 'EMUI', 'Android']\n",
        "chipset_list = ['unisoc', 'helio','dimensity_6', 'dimensity_7', 'dimensity_8', 'dimensity_9', 'snapdragon_6', 'snapdragon_7', 'snapdragon_8', 'exynos_1', 'exynos_2', 'kirin', 'apple']\n",
        "price_list = ['_2', '2_3', '3_4', '4_6', '6_8', '8_10', '10_']"
      ],
      "metadata": {
        "id": "Ox68dlOJ41TB"
      },
      "execution_count": 7,
      "outputs": []
    },
    {
      "cell_type": "markdown",
      "source": [
        "Access phone dataset from csv file.<br>\n",
        "Preprocess the data,  one hot encode some of the features, normalize some of the features.<br>\n",
        "Then concatenate all the phone data."
      ],
      "metadata": {
        "id": "DKj3MQpG_Dka"
      }
    },
    {
      "cell_type": "code",
      "source": [
        "with open('phone_dataset.csv', 'r') as file:\n",
        "  phone_dict = {'phone_brand': [], 'phone_name': [], 'phone_weight': [], 'phone_os': [], 'phone_chipset': [], 'phone_memory': [], 'phone_ram': [], 'phone_camera': [], 'phone_audio_jack': [], 'phone_battery': [], 'phone_charging': [], 'phone_nfc': [], 'phone_price': []}\n",
        "  csvFile = csv.reader(file)\n",
        "  next(csvFile)\n",
        "  for i,line in enumerate(csvFile):\n",
        "    phone_dict['phone_brand'].append(brand_list.index(line[1]))\n",
        "    phone_dict['phone_name'].append(line[2])\n",
        "    phone_dict['phone_weight'].append(float(line[6]))\n",
        "    phone_dict['phone_os'].append(os_list.index('iOS' if line[7].startswith('iOS') else 'EMUI' if line[7].startswith('EMUI') else 'Android'))\n",
        "    phone_dict['phone_chipset'].append(chipset_list.index('unisoc' if 'unisoc' in line[8].lower()\n",
        "                                                          else 'helio' if 'helio' in line[8].lower()\n",
        "                                                          else 'dimensity_6' if 'dimensity 6' in line[8].lower()\n",
        "                                                          else 'dimensity_7' if 'dimensity 7' in line[8].lower()\n",
        "                                                          else 'dimensity_8' if 'dimensity 8' in line[8].lower()\n",
        "                                                          else 'dimensity_9' if 'dimensity 9' in line[8].lower()\n",
        "                                                          else 'snapdragon_6' if 'snapdragon 6' in line[8].lower()\n",
        "                                                          else 'snapdragon_7' if 'snapdragon 7' in line[8].lower()\n",
        "                                                          else 'snapdragon_8' if 'snapdragon 8' in line[8].lower()\n",
        "                                                          else 'exynos_1' if 'exynos 1' in line[8].lower()\n",
        "                                                          else 'exynos_2' if 'exynos 2' in line[8].lower()\n",
        "                                                          else 'kirin' if 'kirin' in line[8].lower()\n",
        "                                                          else 'apple' if 'apple' in line[8].lower() else ''))\n",
        "    phone_dict['phone_memory'].append(float(line[9]))\n",
        "    phone_dict['phone_ram'].append(float(line[10]))\n",
        "    phone_dict['phone_camera'].append([float(line[11]), float(line[12]), float(line[13]), float(line[14])])\n",
        "    phone_dict['phone_audio_jack'].append(1.0 if line[15] == 'TRUE' else 0.0)\n",
        "    phone_dict['phone_battery'].append(float(line[16]))\n",
        "    phone_dict['phone_charging'].append(float(line[17]))\n",
        "    phone_dict['phone_nfc'].append(1.0 if line[19] == 'TRUE' else 0.0)\n",
        "    phone_dict['phone_price'].append(price_list.index('_2' if int(line[20]) < 2000000\n",
        "                                                      else '2_3' if int(line[20]) < 3000000\n",
        "                                                      else '3_4' if int(line[20]) < 4000000\n",
        "                                                      else '4_6' if int(line[20]) < 6000000\n",
        "                                                      else '6_8' if int(line[20]) < 8000000\n",
        "                                                      else '8_10' if int(line[20]) < 10000000\n",
        "                                                      else '10_'))"
      ],
      "metadata": {
        "id": "RnsoSCDw4396"
      },
      "execution_count": 8,
      "outputs": []
    },
    {
      "cell_type": "code",
      "source": [
        "phone_brand = tf.one_hot(phone_dict['phone_brand'], len(brand_list))\n",
        "phone_weight = tf.expand_dims(tf.convert_to_tensor(phone_dict['phone_weight']) / max(phone_dict['phone_weight']), 1)\n",
        "phone_os = tf.one_hot(phone_dict['phone_os'], len(os_list))\n",
        "phone_chipset = tf.one_hot(phone_dict['phone_chipset'], len(chipset_list))\n",
        "phone_memory = tf.expand_dims(tf.convert_to_tensor(phone_dict['phone_memory']), 1)  / max(phone_dict['phone_memory'])\n",
        "phone_ram = tf.expand_dims(tf.convert_to_tensor(phone_dict['phone_ram']), 1) / max(phone_dict['phone_ram'])\n",
        "phone_camera = tf.convert_to_tensor(phone_dict['phone_camera'])\n",
        "phone_audio_jack = tf.expand_dims(tf.convert_to_tensor(phone_dict['phone_audio_jack']), 1)\n",
        "phone_battery = tf.expand_dims(tf.convert_to_tensor(phone_dict['phone_battery']), 1) / max(phone_dict['phone_battery'])\n",
        "phone_charging = tf.expand_dims(tf.convert_to_tensor(phone_dict['phone_charging']), 1)\n",
        "phone_nfc = tf.expand_dims(tf.convert_to_tensor(phone_dict['phone_nfc']), 1)\n",
        "phone_price = tf.one_hot(phone_dict['phone_price'], len(price_list))"
      ],
      "metadata": {
        "id": "cPVRIyYSaiwT"
      },
      "execution_count": 9,
      "outputs": []
    },
    {
      "cell_type": "code",
      "source": [
        "phone = tf.concat([phone_brand, phone_weight, phone_os, phone_chipset, phone_memory, phone_ram, phone_camera, phone_audio_jack, phone_battery, phone_charging, phone_nfc, phone_price], 1)"
      ],
      "metadata": {
        "id": "UWIiW1Gpa6Ga"
      },
      "execution_count": 10,
      "outputs": []
    },
    {
      "cell_type": "markdown",
      "source": [
        "Phone features are brand, weight, os, chipset, memory, RAM, camera 1, camera 2, camera 3, selfie camera, audio jack, battery, charging, nfc, and price."
      ],
      "metadata": {
        "id": "-5XpbFOqBaVR"
      }
    },
    {
      "cell_type": "code",
      "source": [
        "phone[0]"
      ],
      "metadata": {
        "id": "ZRLElV0-XBfZ",
        "collapsed": true,
        "colab": {
          "base_uri": "https://localhost:8080/"
        },
        "outputId": "004e57fb-7790-4937-ab80-6b165e52d2c0"
      },
      "execution_count": 11,
      "outputs": [
        {
          "output_type": "execute_result",
          "data": {
            "text/plain": [
              "<tf.Tensor: shape=(44,), dtype=float32, numpy=\n",
              "array([ 1.        ,  0.        ,  0.        ,  0.        ,  0.        ,\n",
              "        0.        ,  0.        ,  0.        ,  0.        ,  0.        ,\n",
              "        0.33643124,  0.        ,  0.        ,  1.        ,  0.        ,\n",
              "        0.        ,  0.        ,  0.        ,  1.        ,  0.        ,\n",
              "        0.        ,  0.        ,  0.        ,  0.        ,  0.        ,\n",
              "        0.        ,  0.        ,  0.5       ,  0.5       , 50.        ,\n",
              "       32.        ,  8.        , 32.        ,  0.        ,  0.575     ,\n",
              "       80.        ,  0.        ,  0.        ,  0.        ,  0.        ,\n",
              "        0.        ,  0.        ,  1.        ,  0.        ], dtype=float32)>"
            ]
          },
          "metadata": {},
          "execution_count": 11
        }
      ]
    },
    {
      "cell_type": "markdown",
      "source": [
        "Create a rating dictionary and a rating list."
      ],
      "metadata": {
        "id": "nbb9mEGHBvxJ"
      }
    },
    {
      "cell_type": "code",
      "source": [
        "rating_dict = {}"
      ],
      "metadata": {
        "id": "I3KdE-uH3UD_"
      },
      "execution_count": 12,
      "outputs": []
    },
    {
      "cell_type": "code",
      "source": [
        "rating = [[0.0 for _ in range(1507)] for _ in range(96)]"
      ],
      "metadata": {
        "id": "ob1FJCnES5wm"
      },
      "execution_count": 13,
      "outputs": []
    },
    {
      "cell_type": "code",
      "source": [
        "rating[0][0]"
      ],
      "metadata": {
        "id": "jkqpXN8NTj1W",
        "colab": {
          "base_uri": "https://localhost:8080/"
        },
        "outputId": "268f59b6-73dd-45e4-f676-76ef0bbe7cf9"
      },
      "execution_count": 14,
      "outputs": [
        {
          "output_type": "execute_result",
          "data": {
            "text/plain": [
              "0.0"
            ]
          },
          "metadata": {},
          "execution_count": 14
        }
      ]
    },
    {
      "cell_type": "markdown",
      "source": [
        "Access rating dataset from csv file and only save the ratings from the users with information."
      ],
      "metadata": {
        "id": "OW-5ovGS_iUi"
      }
    },
    {
      "cell_type": "code",
      "source": [
        "with open('user_ratings.csv', 'r') as file:\n",
        "  csvFile = csv.reader(file)\n",
        "  next(csvFile)\n",
        "  for line in csvFile:\n",
        "    if (int(line[0])-1) in user_index and line[2]:\n",
        "      rating[int(line[1])-1][int(line[0])-1] = float(line[2])"
      ],
      "metadata": {
        "id": "K5lHmRCKpVkD"
      },
      "execution_count": 15,
      "outputs": []
    },
    {
      "cell_type": "code",
      "source": [
        "print(rating[17][500])\n",
        "print(rating[4][1])\n",
        "print(rating[9][0])"
      ],
      "metadata": {
        "id": "KmpFxMaiTOvZ",
        "colab": {
          "base_uri": "https://localhost:8080/"
        },
        "outputId": "31e04e0c-a367-4f17-969f-d4794dd3da86"
      },
      "execution_count": 16,
      "outputs": [
        {
          "output_type": "stream",
          "name": "stdout",
          "text": [
            "4.0\n",
            "0.0\n",
            "0.0\n"
          ]
        }
      ]
    },
    {
      "cell_type": "code",
      "source": [
        "phone_data = []\n",
        "user_data = []\n",
        "rating_data = []"
      ],
      "metadata": {
        "id": "GZICugZmZ1LZ"
      },
      "execution_count": 17,
      "outputs": []
    },
    {
      "cell_type": "markdown",
      "source": [
        "Save the phone data and user data for training only for the rated phone."
      ],
      "metadata": {
        "id": "xQfUoDL8_u5g"
      }
    },
    {
      "cell_type": "code",
      "source": [
        "for i,p in enumerate(phone):\n",
        "  for j,u in zip(user_index, user):\n",
        "    if rating[i][j] > 0:\n",
        "      phone_data.append(phone[i])\n",
        "      user_data.append(user[user_index.index(j)])\n",
        "      rating_data.append(rating[i][j])"
      ],
      "metadata": {
        "id": "GnqkHGMUZdPH"
      },
      "execution_count": 18,
      "outputs": []
    },
    {
      "cell_type": "code",
      "source": [
        "len(phone_data)"
      ],
      "metadata": {
        "id": "9wIOEBr6e7Y0",
        "colab": {
          "base_uri": "https://localhost:8080/"
        },
        "outputId": "b9d50b3d-b2c4-44f3-8faf-bc4c99674991"
      },
      "execution_count": 19,
      "outputs": [
        {
          "output_type": "execute_result",
          "data": {
            "text/plain": [
              "5439"
            ]
          },
          "metadata": {},
          "execution_count": 19
        }
      ]
    },
    {
      "cell_type": "markdown",
      "source": [
        "Convert phone data, user data, and rating data to tensors and shuffle them."
      ],
      "metadata": {
        "id": "YdSyeVwv_6Ww"
      }
    },
    {
      "cell_type": "code",
      "source": [
        "combined_dataset = list(zip(phone_data, user_data, rating_data))\n",
        "random.shuffle(combined_dataset)\n",
        "phone_dataset, user_dataset, rating_dataset = zip(*combined_dataset)\n",
        "phone_dataset, user_dataset, rating_dataset = list(phone_dataset), list(user_dataset), list(rating_dataset)"
      ],
      "metadata": {
        "id": "3hz-cjs3Wnhh"
      },
      "execution_count": 20,
      "outputs": []
    },
    {
      "cell_type": "code",
      "source": [
        "phone_dataset = tf.convert_to_tensor(phone_dataset)\n",
        "user_dataset = tf.convert_to_tensor(user_dataset)\n",
        "rating_dataset = tf.convert_to_tensor(rating_dataset)"
      ],
      "metadata": {
        "id": "gItbxK_bUtN_"
      },
      "execution_count": 21,
      "outputs": []
    },
    {
      "cell_type": "markdown",
      "source": [
        "Distribute data into training and validation set."
      ],
      "metadata": {
        "id": "13oapBBQYcll"
      }
    },
    {
      "cell_type": "code",
      "source": [
        "train_phone = phone_dataset[int(len(phone_dataset)/4):]\n",
        "train_user = user_dataset[int(len(user_dataset)/4):]\n",
        "train_rating = rating_dataset[int(len(rating_dataset)/4):]"
      ],
      "metadata": {
        "id": "PB0Er2q8EJ7F"
      },
      "execution_count": 22,
      "outputs": []
    },
    {
      "cell_type": "code",
      "source": [
        "val_phone = phone_dataset[:int(len(phone_dataset)/4)]\n",
        "val_user = user_dataset[:int(len(user_dataset)/4)]\n",
        "val_rating = rating_dataset[:int(len(rating_dataset)/4)]"
      ],
      "metadata": {
        "id": "7oobNSXrEsgl"
      },
      "execution_count": 23,
      "outputs": []
    },
    {
      "cell_type": "markdown",
      "source": [
        "Create a model with two inputs for user data and phone data, the output is the dot product of the two vectors from user_NN and phone_NN which is the predicted rating."
      ],
      "metadata": {
        "id": "K5UOjcVdADo4"
      }
    },
    {
      "cell_type": "code",
      "source": [
        "num_outputs = 32\n",
        "\n",
        "user_NN = tf.keras.models.Sequential([\n",
        "    tf.keras.layers.Dense(256, activation='relu'),\n",
        "    tf.keras.layers.Dense(128, activation='relu'),\n",
        "    tf.keras.layers.Dense(num_outputs)\n",
        "])\n",
        "\n",
        "phone_NN = tf.keras.models.Sequential([\n",
        "    tf.keras.layers.Dense(256, activation='relu'),\n",
        "    tf.keras.layers.Dense(128, activation='relu'),\n",
        "    tf.keras.layers.Dense(num_outputs)\n",
        "])\n",
        "\n",
        "user_input = tf.keras.layers.Input(shape=(17))\n",
        "user_vector = user_NN(user_input)\n",
        "normalized_user = tf.linalg.l2_normalize(user_vector, axis=1)\n",
        "\n",
        "phone_input = tf.keras.layers.Input(shape=(44))\n",
        "phone_vector = phone_NN(phone_input)\n",
        "normalized_phone = tf.linalg.l2_normalize(phone_vector, axis=1)\n",
        "\n",
        "output = tf.keras.layers.Dot(axes=1)([normalized_user,normalized_phone])\n",
        "output = tf.keras.layers.Lambda(lambda x: x * 5)(output)\n",
        "\n",
        "model = tf.keras.models.Model(inputs=[user_input,phone_input], outputs=output)\n",
        "user_model = tf.keras.models.Model(inputs=user_input, outputs=normalized_user)\n",
        "phone_model = tf.keras.models.Model(inputs=phone_input, outputs=normalized_phone)"
      ],
      "metadata": {
        "id": "MrovK6eIZz3y"
      },
      "execution_count": 24,
      "outputs": []
    },
    {
      "cell_type": "code",
      "source": [
        "model.summary()"
      ],
      "metadata": {
        "colab": {
          "base_uri": "https://localhost:8080/"
        },
        "id": "3wdFrwVVbzGP",
        "outputId": "37971ae9-3505-47a6-bb23-6a9702e4445a"
      },
      "execution_count": 25,
      "outputs": [
        {
          "output_type": "stream",
          "name": "stdout",
          "text": [
            "Model: \"model\"\n",
            "__________________________________________________________________________________________________\n",
            " Layer (type)                Output Shape                 Param #   Connected to                  \n",
            "==================================================================================================\n",
            " input_1 (InputLayer)        [(None, 17)]                 0         []                            \n",
            "                                                                                                  \n",
            " input_2 (InputLayer)        [(None, 44)]                 0         []                            \n",
            "                                                                                                  \n",
            " sequential (Sequential)     (None, 32)                   41632     ['input_1[0][0]']             \n",
            "                                                                                                  \n",
            " sequential_1 (Sequential)   (None, 32)                   48544     ['input_2[0][0]']             \n",
            "                                                                                                  \n",
            " tf.math.l2_normalize (TFOp  (None, 32)                   0         ['sequential[0][0]']          \n",
            " Lambda)                                                                                          \n",
            "                                                                                                  \n",
            " tf.math.l2_normalize_1 (TF  (None, 32)                   0         ['sequential_1[0][0]']        \n",
            " OpLambda)                                                                                        \n",
            "                                                                                                  \n",
            " dot (Dot)                   (None, 1)                    0         ['tf.math.l2_normalize[0][0]',\n",
            "                                                                     'tf.math.l2_normalize_1[0][0]\n",
            "                                                                    ']                            \n",
            "                                                                                                  \n",
            " lambda (Lambda)             (None, 1)                    0         ['dot[0][0]']                 \n",
            "                                                                                                  \n",
            "==================================================================================================\n",
            "Total params: 90176 (352.25 KB)\n",
            "Trainable params: 90176 (352.25 KB)\n",
            "Non-trainable params: 0 (0.00 Byte)\n",
            "__________________________________________________________________________________________________\n"
          ]
        }
      ]
    },
    {
      "cell_type": "code",
      "source": [
        "user_model.summary()"
      ],
      "metadata": {
        "colab": {
          "base_uri": "https://localhost:8080/"
        },
        "id": "QVIArzVCETpX",
        "outputId": "77446de4-d489-44a6-a588-0173f44c32a1"
      },
      "execution_count": 26,
      "outputs": [
        {
          "output_type": "stream",
          "name": "stdout",
          "text": [
            "Model: \"model_1\"\n",
            "_________________________________________________________________\n",
            " Layer (type)                Output Shape              Param #   \n",
            "=================================================================\n",
            " input_1 (InputLayer)        [(None, 17)]              0         \n",
            "                                                                 \n",
            " sequential (Sequential)     (None, 32)                41632     \n",
            "                                                                 \n",
            " tf.math.l2_normalize (TFOp  (None, 32)                0         \n",
            " Lambda)                                                         \n",
            "                                                                 \n",
            "=================================================================\n",
            "Total params: 41632 (162.62 KB)\n",
            "Trainable params: 41632 (162.62 KB)\n",
            "Non-trainable params: 0 (0.00 Byte)\n",
            "_________________________________________________________________\n"
          ]
        }
      ]
    },
    {
      "cell_type": "code",
      "source": [
        "phone_model.summary()"
      ],
      "metadata": {
        "colab": {
          "base_uri": "https://localhost:8080/"
        },
        "id": "G-IIzqDFEVyj",
        "outputId": "8048ea44-e120-49a8-fdad-0e9494f98907"
      },
      "execution_count": 27,
      "outputs": [
        {
          "output_type": "stream",
          "name": "stdout",
          "text": [
            "Model: \"model_2\"\n",
            "_________________________________________________________________\n",
            " Layer (type)                Output Shape              Param #   \n",
            "=================================================================\n",
            " input_2 (InputLayer)        [(None, 44)]              0         \n",
            "                                                                 \n",
            " sequential_1 (Sequential)   (None, 32)                48544     \n",
            "                                                                 \n",
            " tf.math.l2_normalize_1 (TF  (None, 32)                0         \n",
            " OpLambda)                                                       \n",
            "                                                                 \n",
            "=================================================================\n",
            "Total params: 48544 (189.62 KB)\n",
            "Trainable params: 48544 (189.62 KB)\n",
            "Non-trainable params: 0 (0.00 Byte)\n",
            "_________________________________________________________________\n"
          ]
        }
      ]
    },
    {
      "cell_type": "code",
      "source": [
        "model.compile(optimizer=tf.keras.optimizers.Adam(learning_rate=0.01), loss='mse')"
      ],
      "metadata": {
        "id": "LygxlEeIgDOi"
      },
      "execution_count": 28,
      "outputs": []
    },
    {
      "cell_type": "markdown",
      "source": [
        "Train the model."
      ],
      "metadata": {
        "id": "0OqDN0qACGWi"
      }
    },
    {
      "cell_type": "code",
      "source": [
        "model.fit([train_user, train_phone], train_rating, epochs=30, validation_data=([val_user, val_phone], val_rating))"
      ],
      "metadata": {
        "colab": {
          "base_uri": "https://localhost:8080/"
        },
        "id": "dV6hmL8aE8KL",
        "outputId": "3261d6ee-0cb7-47ad-b66c-692f2940c0d7"
      },
      "execution_count": 29,
      "outputs": [
        {
          "output_type": "stream",
          "name": "stdout",
          "text": [
            "Epoch 1/30\n",
            "128/128 [==============================] - 3s 8ms/step - loss: 0.5108 - val_loss: 0.4235\n",
            "Epoch 2/30\n",
            "128/128 [==============================] - 1s 4ms/step - loss: 0.3210 - val_loss: 0.3185\n",
            "Epoch 3/30\n",
            "128/128 [==============================] - 0s 4ms/step - loss: 0.3118 - val_loss: 0.3108\n",
            "Epoch 4/30\n",
            "128/128 [==============================] - 0s 4ms/step - loss: 0.3073 - val_loss: 0.3165\n",
            "Epoch 5/30\n",
            "128/128 [==============================] - 1s 4ms/step - loss: 0.3073 - val_loss: 0.3294\n",
            "Epoch 6/30\n",
            "128/128 [==============================] - 1s 4ms/step - loss: 0.3186 - val_loss: 0.3167\n",
            "Epoch 7/30\n",
            "128/128 [==============================] - 0s 4ms/step - loss: 0.3045 - val_loss: 0.3095\n",
            "Epoch 8/30\n",
            "128/128 [==============================] - 0s 3ms/step - loss: 0.3046 - val_loss: 0.3117\n",
            "Epoch 9/30\n",
            "128/128 [==============================] - 0s 3ms/step - loss: 0.2985 - val_loss: 0.3099\n",
            "Epoch 10/30\n",
            "128/128 [==============================] - 0s 4ms/step - loss: 0.2973 - val_loss: 0.3002\n",
            "Epoch 11/30\n",
            "128/128 [==============================] - 0s 4ms/step - loss: 0.2988 - val_loss: 0.3022\n",
            "Epoch 12/30\n",
            "128/128 [==============================] - 0s 4ms/step - loss: 0.2950 - val_loss: 0.3136\n",
            "Epoch 13/30\n",
            "128/128 [==============================] - 0s 4ms/step - loss: 0.3013 - val_loss: 0.2988\n",
            "Epoch 14/30\n",
            "128/128 [==============================] - 1s 4ms/step - loss: 0.2937 - val_loss: 0.2958\n",
            "Epoch 15/30\n",
            "128/128 [==============================] - 0s 3ms/step - loss: 0.2921 - val_loss: 0.2953\n",
            "Epoch 16/30\n",
            "128/128 [==============================] - 0s 4ms/step - loss: 0.2916 - val_loss: 0.3225\n",
            "Epoch 17/30\n",
            "128/128 [==============================] - 0s 4ms/step - loss: 0.2909 - val_loss: 0.3009\n",
            "Epoch 18/30\n",
            "128/128 [==============================] - 0s 3ms/step - loss: 0.2910 - val_loss: 0.2971\n",
            "Epoch 19/30\n",
            "128/128 [==============================] - 1s 4ms/step - loss: 0.2889 - val_loss: 0.2928\n",
            "Epoch 20/30\n",
            "128/128 [==============================] - 0s 4ms/step - loss: 0.2860 - val_loss: 0.2972\n",
            "Epoch 21/30\n",
            "128/128 [==============================] - 1s 4ms/step - loss: 0.2883 - val_loss: 0.3142\n",
            "Epoch 22/30\n",
            "128/128 [==============================] - 1s 6ms/step - loss: 0.2874 - val_loss: 0.2985\n",
            "Epoch 23/30\n",
            "128/128 [==============================] - 1s 6ms/step - loss: 0.2918 - val_loss: 0.3090\n",
            "Epoch 24/30\n",
            "128/128 [==============================] - 1s 7ms/step - loss: 0.2869 - val_loss: 0.2937\n",
            "Epoch 25/30\n",
            "128/128 [==============================] - 1s 6ms/step - loss: 0.2876 - val_loss: 0.2996\n",
            "Epoch 26/30\n",
            "128/128 [==============================] - 0s 4ms/step - loss: 0.2880 - val_loss: 0.2997\n",
            "Epoch 27/30\n",
            "128/128 [==============================] - 0s 4ms/step - loss: 0.2882 - val_loss: 0.2905\n",
            "Epoch 28/30\n",
            "128/128 [==============================] - 0s 4ms/step - loss: 0.2843 - val_loss: 0.2943\n",
            "Epoch 29/30\n",
            "128/128 [==============================] - 1s 4ms/step - loss: 0.2836 - val_loss: 0.2912\n",
            "Epoch 30/30\n",
            "128/128 [==============================] - 0s 4ms/step - loss: 0.2832 - val_loss: 0.3048\n"
          ]
        },
        {
          "output_type": "execute_result",
          "data": {
            "text/plain": [
              "<keras.src.callbacks.History at 0x7ca302cde350>"
            ]
          },
          "metadata": {},
          "execution_count": 29
        }
      ]
    },
    {
      "cell_type": "code",
      "source": [
        "model.evaluate([val_user, val_phone], val_rating)"
      ],
      "metadata": {
        "colab": {
          "base_uri": "https://localhost:8080/"
        },
        "id": "jPUeJ5ILF2v2",
        "outputId": "fe591524-ef12-45bc-92a8-2ea93cfc0c00"
      },
      "execution_count": 30,
      "outputs": [
        {
          "output_type": "stream",
          "name": "stdout",
          "text": [
            "43/43 [==============================] - 0s 2ms/step - loss: 0.3048\n"
          ]
        },
        {
          "output_type": "execute_result",
          "data": {
            "text/plain": [
              "0.3047706186771393"
            ]
          },
          "metadata": {},
          "execution_count": 30
        }
      ]
    },
    {
      "cell_type": "code",
      "source": [
        "model.save('model.keras')"
      ],
      "metadata": {
        "id": "TKTNPtc8t6dr"
      },
      "execution_count": 31,
      "outputs": []
    },
    {
      "cell_type": "code",
      "source": [
        "user_model.save('user_model.keras')"
      ],
      "metadata": {
        "id": "nzUas7XBt8Pe"
      },
      "execution_count": 32,
      "outputs": []
    },
    {
      "cell_type": "code",
      "source": [
        "phone_model.save('phone_model.keras')"
      ],
      "metadata": {
        "id": "57ppXGoZt_Sx"
      },
      "execution_count": 33,
      "outputs": []
    },
    {
      "cell_type": "markdown",
      "source": [
        "Predict rating."
      ],
      "metadata": {
        "id": "Kr1ZtpMKG4ZG"
      }
    },
    {
      "cell_type": "code",
      "source": [
        "model.predict([tf.convert_to_tensor([user_data[0]]), tf.convert_to_tensor([phone_data[0]])])"
      ],
      "metadata": {
        "id": "CvkJw0OGWVMT",
        "colab": {
          "base_uri": "https://localhost:8080/"
        },
        "outputId": "76c540d8-e3fb-4019-c55d-517b31919dcb"
      },
      "execution_count": 34,
      "outputs": [
        {
          "output_type": "stream",
          "name": "stdout",
          "text": [
            "1/1 [==============================] - 0s 131ms/step\n"
          ]
        },
        {
          "output_type": "execute_result",
          "data": {
            "text/plain": [
              "array([[4.1881437]], dtype=float32)"
            ]
          },
          "metadata": {},
          "execution_count": 34
        }
      ]
    },
    {
      "cell_type": "code",
      "source": [
        "rating_data[0]"
      ],
      "metadata": {
        "id": "C8jvb62qbLU6",
        "colab": {
          "base_uri": "https://localhost:8080/"
        },
        "outputId": "3ca33cee-bdfa-4819-e7e7-78c245619454"
      },
      "execution_count": 35,
      "outputs": [
        {
          "output_type": "execute_result",
          "data": {
            "text/plain": [
              "3.0"
            ]
          },
          "metadata": {},
          "execution_count": 35
        }
      ]
    },
    {
      "cell_type": "code",
      "source": [
        "user_data[0]"
      ],
      "metadata": {
        "colab": {
          "base_uri": "https://localhost:8080/"
        },
        "id": "exCugB8cFKZ0",
        "outputId": "cea158a4-97c6-4c0f-b958-036547865367"
      },
      "execution_count": 36,
      "outputs": [
        {
          "output_type": "execute_result",
          "data": {
            "text/plain": [
              "<tf.Tensor: shape=(17,), dtype=float32, numpy=\n",
              "array([4., 5., 5., 4., 5., 5., 0., 0., 0., 1., 0., 0., 0., 0., 0., 0., 0.],\n",
              "      dtype=float32)>"
            ]
          },
          "metadata": {},
          "execution_count": 36
        }
      ]
    },
    {
      "cell_type": "markdown",
      "source": [
        "Predict rating by dot product of user vector and phone vector."
      ],
      "metadata": {
        "id": "zdWu8hyLG72u"
      }
    },
    {
      "cell_type": "code",
      "source": [
        "user_vector_pred = user_model.predict(tf.expand_dims(user_data[0], 0))\n",
        "phone_vector_pred = phone_model.predict(tf.expand_dims(phone_data[0], 0))\n",
        "tf.tensordot(user_vector_pred, phone_vector_pred, axes=(1,1)) * 5"
      ],
      "metadata": {
        "colab": {
          "base_uri": "https://localhost:8080/"
        },
        "id": "fUjGXo5OEtbW",
        "outputId": "80ef8429-2ba9-4674-e273-862c45891fd9"
      },
      "execution_count": 37,
      "outputs": [
        {
          "output_type": "stream",
          "name": "stdout",
          "text": [
            "1/1 [==============================] - 0s 73ms/step\n",
            "1/1 [==============================] - 0s 63ms/step\n"
          ]
        },
        {
          "output_type": "execute_result",
          "data": {
            "text/plain": [
              "<tf.Tensor: shape=(1, 1), dtype=float32, numpy=array([[4.1881437]], dtype=float32)>"
            ]
          },
          "metadata": {},
          "execution_count": 37
        }
      ]
    },
    {
      "cell_type": "markdown",
      "source": [
        "Create phone vectors."
      ],
      "metadata": {
        "id": "N-YZKO9UhaBi"
      }
    },
    {
      "cell_type": "code",
      "source": [
        "p_vector = phone_model.predict(phone)"
      ],
      "metadata": {
        "colab": {
          "base_uri": "https://localhost:8080/"
        },
        "id": "Cyrlpez5gTCX",
        "outputId": "d4d47cbb-3a8d-4ea9-9c99-b9aa6ed52a33"
      },
      "execution_count": 39,
      "outputs": [
        {
          "output_type": "stream",
          "name": "stdout",
          "text": [
            "3/3 [==============================] - 0s 7ms/step\n"
          ]
        }
      ]
    },
    {
      "cell_type": "code",
      "source": [
        "p_vector.shape"
      ],
      "metadata": {
        "colab": {
          "base_uri": "https://localhost:8080/"
        },
        "id": "c76BOS4Miu4Z",
        "outputId": "1b886bf8-afff-4426-b332-d0c71d95e649"
      },
      "execution_count": 40,
      "outputs": [
        {
          "output_type": "execute_result",
          "data": {
            "text/plain": [
              "(96, 32)"
            ]
          },
          "metadata": {},
          "execution_count": 40
        }
      ]
    },
    {
      "cell_type": "markdown",
      "source": [
        "Save phone vectors into csv file."
      ],
      "metadata": {
        "id": "Ih7Ro5TdoUOv"
      }
    },
    {
      "cell_type": "code",
      "source": [
        "with open('phone_vector.csv', 'w') as file:\n",
        "  csvwriter = csv.writer(file)\n",
        "  csvwriter.writerows(p_vector)"
      ],
      "metadata": {
        "id": "vU1gsGvFoAoP"
      },
      "execution_count": 41,
      "outputs": []
    },
    {
      "cell_type": "markdown",
      "source": [
        "Calculate square distance between phone vectors to get related phones."
      ],
      "metadata": {
        "id": "lQnmFRssnwqw"
      }
    },
    {
      "cell_type": "code",
      "source": [
        "top_distance = []\n",
        "top_distance_name = []\n",
        "for i,x in enumerate(p_vector):\n",
        "  all_distance = []\n",
        "  phone_pred_list = phone_dict['phone_name']\n",
        "  for j,y in enumerate(p_vector):\n",
        "    if tf.math.reduce_all(tf.math.equal(x,y)):\n",
        "      continue\n",
        "    else:\n",
        "      all_distance.append(tf.math.reduce_sum(tf.math.square(x-y)))\n",
        "  phone_pred_list = phone_pred_list[:i] + phone_pred_list[i+1:]\n",
        "  combined_dist = list(zip(all_distance, phone_pred_list))\n",
        "  combined_dist.sort()\n",
        "  all_distance, phone_pred_list = zip(*combined_dist)\n",
        "  all_distance, phone_pred_list = list(all_distance), list(phone_pred_list)\n",
        "  top_distance.append(all_distance[:10])\n",
        "  top_distance_name.append(phone_pred_list[:10])"
      ],
      "metadata": {
        "id": "np6DW5xTXyN9"
      },
      "execution_count": 42,
      "outputs": []
    },
    {
      "cell_type": "code",
      "source": [
        "top_distance[0]"
      ],
      "metadata": {
        "colab": {
          "base_uri": "https://localhost:8080/"
        },
        "collapsed": true,
        "id": "SxIsbIR4f6cb",
        "outputId": "e337801e-b68b-470e-d31e-b66295038e9b"
      },
      "execution_count": 43,
      "outputs": [
        {
          "output_type": "execute_result",
          "data": {
            "text/plain": [
              "[<tf.Tensor: shape=(), dtype=float32, numpy=0.0001487504>,\n",
              " <tf.Tensor: shape=(), dtype=float32, numpy=0.0003030591>,\n",
              " <tf.Tensor: shape=(), dtype=float32, numpy=0.00050617865>,\n",
              " <tf.Tensor: shape=(), dtype=float32, numpy=0.0007038402>,\n",
              " <tf.Tensor: shape=(), dtype=float32, numpy=0.00082104036>,\n",
              " <tf.Tensor: shape=(), dtype=float32, numpy=0.0012498695>,\n",
              " <tf.Tensor: shape=(), dtype=float32, numpy=0.0014380547>,\n",
              " <tf.Tensor: shape=(), dtype=float32, numpy=0.0016245092>,\n",
              " <tf.Tensor: shape=(), dtype=float32, numpy=0.0016456458>,\n",
              " <tf.Tensor: shape=(), dtype=float32, numpy=0.0023273644>]"
            ]
          },
          "metadata": {},
          "execution_count": 43
        }
      ]
    },
    {
      "cell_type": "code",
      "source": [
        "top_distance_name[0]"
      ],
      "metadata": {
        "colab": {
          "base_uri": "https://localhost:8080/"
        },
        "collapsed": true,
        "id": "piWnZLtLh1sE",
        "outputId": "d5851236-f1ca-4e28-83b8-9fda92a27093"
      },
      "execution_count": 44,
      "outputs": [
        {
          "output_type": "execute_result",
          "data": {
            "text/plain": [
              "['Oppo Reno 11',\n",
              " 'Oppo Reno 10',\n",
              " 'Realme 12 Pro+ 5G',\n",
              " 'Samsung Galaxy A35',\n",
              " 'Infinix Zero 30 5G',\n",
              " 'Samsung Galaxy A55',\n",
              " 'Poco X6 5G',\n",
              " 'Samsung Galaxy A15',\n",
              " 'Poco F5',\n",
              " 'Infinix GT 20 Pro']"
            ]
          },
          "metadata": {},
          "execution_count": 44
        }
      ]
    },
    {
      "cell_type": "markdown",
      "source": [
        "Save related phones data into csv file."
      ],
      "metadata": {
        "id": "12ITF96zn32J"
      }
    },
    {
      "cell_type": "code",
      "source": [
        "with open('related_phone.csv', 'w') as file:\n",
        "  csvwriter = csv.writer(file)\n",
        "  csvwriter.writerow(['phone_name', 'related1', 'related2', 'related3', 'related4', 'related5', 'related6', 'related7', 'related8', 'related9', 'related10'])\n",
        "  for i in range(96):\n",
        "    csvwriter.writerow([phone_dict['phone_name'][i], top_distance_name[i][0], top_distance_name[i][1], top_distance_name[i][2], top_distance_name[i][3], top_distance_name[i][4], top_distance_name[i][5], top_distance_name[i][6], top_distance_name[i][7], top_distance_name[i][8], top_distance_name[i][9]])"
      ],
      "metadata": {
        "id": "dOhZAaG9lZt4"
      },
      "execution_count": 45,
      "outputs": []
    }
  ]
}