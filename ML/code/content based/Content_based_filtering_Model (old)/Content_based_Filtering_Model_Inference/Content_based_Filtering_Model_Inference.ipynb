{
  "nbformat": 4,
  "nbformat_minor": 0,
  "metadata": {
    "colab": {
      "provenance": []
    },
    "kernelspec": {
      "name": "python3",
      "display_name": "Python 3"
    },
    "language_info": {
      "name": "python"
    }
  },
  "cells": [
    {
      "cell_type": "markdown",
      "source": [
        "# Content-based Filtering Model Inference"
      ],
      "metadata": {
        "id": "UeNSMsRMjT6o"
      }
    },
    {
      "cell_type": "code",
      "execution_count": 15,
      "metadata": {
        "id": "oEJcLrTmbJS2"
      },
      "outputs": [],
      "source": [
        "import csv\n",
        "import pandas as pd\n",
        "import tensorflow as tf"
      ]
    },
    {
      "cell_type": "code",
      "source": [
        "brand_choice_list = ['Oppo', 'Asus', 'Infinix', 'Samsung', 'Vivo', 'Huawei', 'Apple', 'Realme', 'Xiaomi', 'Poco', 'lainnya/tidak ada']"
      ],
      "metadata": {
        "id": "7rxeyDPicVl2"
      },
      "execution_count": 16,
      "outputs": []
    },
    {
      "cell_type": "code",
      "source": [
        "user_model = tf.keras.models.load_model('user_model.keras')"
      ],
      "metadata": {
        "id": "U2o3DeAgbO3v"
      },
      "execution_count": 17,
      "outputs": []
    },
    {
      "cell_type": "markdown",
      "source": [
        "Preprocess data into input compatible with the model."
      ],
      "metadata": {
        "id": "dPtkWsIZjOFC"
      }
    },
    {
      "cell_type": "code",
      "source": [
        "def preprocess_user(x):\n",
        "  one_hot = x[-1]\n",
        "  one_hot = tf.one_hot(brand_choice_list.index(one_hot), len(brand_choice_list))\n",
        "  x = tf.cast(tf.convert_to_tensor(x[:-1]), tf.float32)\n",
        "  return tf.expand_dims(tf.concat([x, one_hot], 0), 0)"
      ],
      "metadata": {
        "id": "yDzWqHvWcJlB"
      },
      "execution_count": 18,
      "outputs": []
    },
    {
      "cell_type": "code",
      "source": [
        "a = [5,5,5,5,5,5,'Apple'] # performance, camera, battery, software, RAM, storage, favorite brand\n",
        "preprocessed_output = preprocess_user(a)"
      ],
      "metadata": {
        "id": "dwfuM2WOcLJT"
      },
      "execution_count": 19,
      "outputs": []
    },
    {
      "cell_type": "code",
      "source": [
        "u_vector = user_model.predict(preprocessed_output)"
      ],
      "metadata": {
        "colab": {
          "base_uri": "https://localhost:8080/"
        },
        "id": "uAQ0qejFcNjx",
        "outputId": "4e63b896-492c-4c9f-c899-acf8e6e6a359"
      },
      "execution_count": 20,
      "outputs": [
        {
          "output_type": "stream",
          "name": "stdout",
          "text": [
            "1/1 [==============================] - 0s 63ms/step\n"
          ]
        }
      ]
    },
    {
      "cell_type": "code",
      "source": [
        "p_vector = pd.read_csv('phone_vector.csv', header=None)"
      ],
      "metadata": {
        "id": "-IqWG8ZCcP7r"
      },
      "execution_count": 27,
      "outputs": []
    },
    {
      "cell_type": "code",
      "source": [
        "p_vector = tf.convert_to_tensor(p_vector)\n",
        "p_vector = tf.cast(p_vector, tf.float32)"
      ],
      "metadata": {
        "id": "_qVPBvxQdxSd"
      },
      "execution_count": 39,
      "outputs": []
    },
    {
      "cell_type": "markdown",
      "source": [
        "Predict phone ratings for a user."
      ],
      "metadata": {
        "id": "_Cy3rAf4lHIA"
      }
    },
    {
      "cell_type": "code",
      "source": [
        "rating_pred_list = []\n",
        "for p in p_vector:\n",
        "  rating_pred_list.append(tf.tensordot(u_vector, tf.expand_dims(p, 0), axes=(1,1)) * 5)"
      ],
      "metadata": {
        "id": "41k86Kqndw0C"
      },
      "execution_count": 45,
      "outputs": []
    },
    {
      "cell_type": "markdown",
      "source": [
        "Get phone name."
      ],
      "metadata": {
        "id": "ZVFh8vAVlLT4"
      }
    },
    {
      "cell_type": "code",
      "source": [
        "phone_pred_list = pd.read_csv('phone_dataset_cleaned.csv')"
      ],
      "metadata": {
        "id": "tvkiGvlLiPgN"
      },
      "execution_count": 50,
      "outputs": []
    },
    {
      "cell_type": "code",
      "source": [
        "phone_pred_list = phone_pred_list['name'].tolist()"
      ],
      "metadata": {
        "id": "QGEfJRJxiXqM"
      },
      "execution_count": 51,
      "outputs": []
    },
    {
      "cell_type": "markdown",
      "source": [
        "Sort ratings to get top 10 recommended phones for a user."
      ],
      "metadata": {
        "id": "Ek0uAV6LlPId"
      }
    },
    {
      "cell_type": "code",
      "source": [
        "top_10_phone = list(zip(rating_pred_list, phone_pred_list))\n",
        "top_10_phone.sort(reverse=True)\n",
        "rating_pred_list, phone_pred_list = zip(*top_10_phone)\n",
        "rating_pred_list, phone_pred_list = list(rating_pred_list), list(phone_pred_list)"
      ],
      "metadata": {
        "id": "zGrXbKQhhmzP"
      },
      "execution_count": 52,
      "outputs": []
    },
    {
      "cell_type": "code",
      "source": [
        "top_10_list = []\n",
        "for i in range(10):\n",
        "  top_10_list.append(phone_pred_list[i])\n",
        "  print(i+1, phone_pred_list[i], rating_pred_list[i].numpy())"
      ],
      "metadata": {
        "colab": {
          "base_uri": "https://localhost:8080/"
        },
        "id": "3Rxaql6Xhq2l",
        "outputId": "ffb9c191-c358-44f4-a28c-7fe55aadae37"
      },
      "execution_count": 53,
      "outputs": [
        {
          "output_type": "stream",
          "name": "stdout",
          "text": [
            "1 iPhone 15 Pro [[4.6715217]]\n",
            "2 iPhone 14 Pro [[4.6715097]]\n",
            "3 iPhone 15 Pro Max [[4.6714597]]\n",
            "4 iPhone 14 Pro Max [[4.6714478]]\n",
            "5 iPhone 13 [[4.671291]]\n",
            "6 iPhone 14 Plus [[4.66598]]\n",
            "7 Samsung Galaxy Z Fold5 [[4.6275544]]\n",
            "8 Samsung Galaxy S24 [[4.627504]]\n",
            "9 Samsung Galaxy S24 Ultra [[4.6262345]]\n",
            "10 Samsung Galaxy S24+ [[4.6193595]]\n"
          ]
        }
      ]
    },
    {
      "cell_type": "code",
      "source": [
        "top_10_list"
      ],
      "metadata": {
        "colab": {
          "base_uri": "https://localhost:8080/"
        },
        "id": "m2CNqsk0htx4",
        "outputId": "91d73ee3-89ce-4f05-ba94-378e090182a1"
      },
      "execution_count": 54,
      "outputs": [
        {
          "output_type": "execute_result",
          "data": {
            "text/plain": [
              "['iPhone 15 Pro',\n",
              " 'iPhone 14 Pro',\n",
              " 'iPhone 15 Pro Max',\n",
              " 'iPhone 14 Pro Max',\n",
              " 'iPhone 13',\n",
              " 'iPhone 14 Plus',\n",
              " 'Samsung Galaxy Z Fold5',\n",
              " 'Samsung Galaxy S24',\n",
              " 'Samsung Galaxy S24 Ultra',\n",
              " 'Samsung Galaxy S24+']"
            ]
          },
          "metadata": {},
          "execution_count": 54
        }
      ]
    }
  ]
}